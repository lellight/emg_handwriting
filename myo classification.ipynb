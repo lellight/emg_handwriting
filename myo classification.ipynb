{
 "cells": [
  {
   "cell_type": "code",
   "execution_count": 1,
   "id": "98980302-a2f7-4bd9-b1e1-f7db49bcf361",
   "metadata": {},
   "outputs": [],
   "source": [
    "def worker(order):\n",
    "    rows, trace = order\n",
    "    ans = np.zeros((len(rows), 5))\n",
    "    for i, r in enumerate(rows):\n",
    "        mtrace = trace[r[0]: r[1]]\n",
    "        ans[i, :] = [mtrace.mean(), np.median(mtrace), np.std(mtrace), mtrace.min(), mtrace.max()]\n",
    "    return ans\n",
    "\n",
    "def regionprops1d(mask, *_trace, n_proc=1):\n",
    "    \"\"\"\n",
    "    :param mask: 1d numpy array mask of bool, or [0,1]\n",
    "    :param _trace: traces to process for stats (max, min, std, median, mean)\n",
    "    :param n_proc: number of processes to spawn while calculating stats for traces\n",
    "    :return: DataFrame with indices Onset (inclusive), Offset (exclusive), Length (absolute)\n",
    "             When given _trace, also calculated Min, Max, STD, Median, and Mean for each trace\n",
    "    \"\"\"\n",
    "\n",
    "    assert (len(mask.shape) == 1), 'shape mismatch, mask should be 1d'\n",
    "\n",
    "    col_names = ['Onset', 'Offset', 'Length']\n",
    "\n",
    "    if not (mask.any()):\n",
    "        return None\n",
    "\n",
    "    diff_mask = np.diff(mask, axis=-1, prepend=0, append=0)\n",
    "    t_start = np.where(diff_mask == 1)[0]\n",
    "    t_stop = np.where(diff_mask == -1)[0]\n",
    "    assert (len(t_start) == len(t_stop))\n",
    "\n",
    "    res = np.vstack([t_start, t_stop, t_stop - t_start]).T\n",
    "    df_res = pd.DataFrame(res, columns=col_names, dtype=int)\n",
    "\n",
    "    for itr, trace in enumerate(_trace):\n",
    "        assert(len(trace) == len(mask)), f'trace len = {len(trace)} not equal to mask len = {len(mask)}'\n",
    "\n",
    "        order = [(s, trace) for s in np.array_split(res, n_proc, axis=0)]\n",
    "\n",
    "        if itr:\n",
    "            cols = list(map(lambda x: f'{x}_{itr}', ['Mean', 'Median', 'STD', 'Min', 'Max']))\n",
    "        else:\n",
    "            cols = ['Mean', 'Median', 'STD', 'Min', 'Max']\n",
    "\n",
    "        if n_proc > 1:\n",
    "            with Pool(n_proc) as p:\n",
    "                ans = pd.DataFrame(np.vstack(p.map(worker, order)), columns=cols)\n",
    "        else:\n",
    "            ans = pd.DataFrame(np.vstack(list(map(worker, order))), columns=cols)\n",
    "\n",
    "        df_res = pd.merge(left=df_res, right=ans, left_index=True, right_index=True)\n",
    "\n",
    "    return df_res"
   ]
  },
  {
   "cell_type": "code",
   "execution_count": 2,
   "id": "de0f6508-0f8e-4795-b662-b488f33e6f1a",
   "metadata": {},
   "outputs": [],
   "source": [
    "import pandas as pd\n",
    "from scipy.io import loadmat\n",
    "import mne\n",
    "import numpy as np\n",
    "import matplotlib.pyplot as plt\n",
    "%matplotlib widget\n",
    "import os"
   ]
  },
  {
   "cell_type": "code",
   "execution_count": 4,
   "id": "a326a131-a6e9-4d0e-87a9-4a8c5329272b",
   "metadata": {},
   "outputs": [
    {
     "data": {
      "text/html": [
       "<div>\n",
       "<style scoped>\n",
       "    .dataframe tbody tr th:only-of-type {\n",
       "        vertical-align: middle;\n",
       "    }\n",
       "\n",
       "    .dataframe tbody tr th {\n",
       "        vertical-align: top;\n",
       "    }\n",
       "\n",
       "    .dataframe thead th {\n",
       "        text-align: right;\n",
       "    }\n",
       "</style>\n",
       "<table border=\"1\" class=\"dataframe\">\n",
       "  <thead>\n",
       "    <tr style=\"text-align: right;\">\n",
       "      <th></th>\n",
       "      <th>mat</th>\n",
       "    </tr>\n",
       "  </thead>\n",
       "  <tbody>\n",
       "    <tr>\n",
       "      <th>0</th>\n",
       "      <td>export1_13Nov07.mat</td>\n",
       "    </tr>\n",
       "    <tr>\n",
       "      <th>1</th>\n",
       "      <td>export1_15Jan08.mat</td>\n",
       "    </tr>\n",
       "    <tr>\n",
       "      <th>2</th>\n",
       "      <td>export1_15Nov07.mat</td>\n",
       "    </tr>\n",
       "    <tr>\n",
       "      <th>3</th>\n",
       "      <td>export1_19Dec07.mat</td>\n",
       "    </tr>\n",
       "    <tr>\n",
       "      <th>4</th>\n",
       "      <td>export1_20Dec07.mat</td>\n",
       "    </tr>\n",
       "    <tr>\n",
       "      <th>5</th>\n",
       "      <td>export1_21Dec07.mat</td>\n",
       "    </tr>\n",
       "    <tr>\n",
       "      <th>6</th>\n",
       "      <td>export1_24Jan08.mat</td>\n",
       "    </tr>\n",
       "    <tr>\n",
       "      <th>7</th>\n",
       "      <td>export1_2Jan08.mat</td>\n",
       "    </tr>\n",
       "    <tr>\n",
       "      <th>8</th>\n",
       "      <td>export1_30Nov07.mat</td>\n",
       "    </tr>\n",
       "    <tr>\n",
       "      <th>9</th>\n",
       "      <td>export1_3Jan08.mat</td>\n",
       "    </tr>\n",
       "    <tr>\n",
       "      <th>10</th>\n",
       "      <td>export1_7Jan08.mat</td>\n",
       "    </tr>\n",
       "  </tbody>\n",
       "</table>\n",
       "</div>"
      ],
      "text/plain": [
       "                    mat\n",
       "0   export1_13Nov07.mat\n",
       "1   export1_15Jan08.mat\n",
       "2   export1_15Nov07.mat\n",
       "3   export1_19Dec07.mat\n",
       "4   export1_20Dec07.mat\n",
       "5   export1_21Dec07.mat\n",
       "6   export1_24Jan08.mat\n",
       "7    export1_2Jan08.mat\n",
       "8   export1_30Nov07.mat\n",
       "9    export1_3Jan08.mat\n",
       "10   export1_7Jan08.mat"
      ]
     },
     "execution_count": 4,
     "metadata": {},
     "output_type": "execute_result"
    }
   ],
   "source": [
    "files = !ls *.mat\n",
    "df_data = pd.DataFrame({'mat':files})\n",
    "df_data"
   ]
  },
  {
   "cell_type": "markdown",
   "id": "91ee6538-6959-4135-af09-7cf0aeccef7f",
   "metadata": {
    "tags": []
   },
   "source": [
    "# Single subject"
   ]
  },
  {
   "cell_type": "code",
   "execution_count": 5,
   "id": "e1c294e4-6250-4c4d-8244-67b6f2968e0a",
   "metadata": {},
   "outputs": [
    {
     "name": "stdout",
     "output_type": "stream",
     "text": [
      "export1_13Nov07.mat\n"
     ]
    }
   ],
   "source": [
    "matfile = df_data.mat.loc[0]\n",
    "print(matfile)\n",
    "mat = loadmat(matfile)"
   ]
  },
  {
   "cell_type": "markdown",
   "id": "ebead82b-9fbc-49bc-b767-f7bfc951f42e",
   "metadata": {
    "tags": []
   },
   "source": [
    "## Preprocess"
   ]
  },
  {
   "cell_type": "code",
   "execution_count": 6,
   "id": "30ef16aa-7ac3-4c56-a3ec-b3feaca96901",
   "metadata": {},
   "outputs": [
    {
     "name": "stdout",
     "output_type": "stream",
     "text": [
      "Creating RawArray with float64 data, n_channels=13, n_times=3234809\n",
      "    Range : 0 ... 3234808 =      0.000 ...  3234.808 secs\n",
      "Ready.\n",
      "No data channels found. The highpass and lowpass values in the measurement info will not be updated.\n",
      "Filtering raw data in 1 contiguous segment\n",
      "Setting up low-pass filter at 5 Hz\n",
      "\n",
      "FIR filter parameters\n",
      "---------------------\n",
      "Designing a one-pass, zero-phase, non-causal lowpass filter:\n",
      "- Windowed time-domain design (firwin) method\n",
      "- Hamming window with 0.0194 passband ripple and 53 dB stopband attenuation\n",
      "- Upper passband edge: 5.00 Hz\n",
      "- Upper transition bandwidth: 2.00 Hz (-6 dB cutoff frequency: 6.00 Hz)\n",
      "- Filter length: 1651 samples (1.651 sec)\n",
      "\n",
      "648 events found\n",
      "Event IDs: [1]\n",
      "Trigger channel has a non-zero initial value of 1 (consider using initial_event=True to detect this event)\n",
      "9 events found\n",
      "Event IDs: [ 2  3  4  5  6  7  8  9 10]\n",
      "Trigger channel has a non-zero initial value of 1 (consider using initial_event=True to detect this event)\n",
      "498 events found\n",
      "Event IDs: [  2   3   4   5   6   7   8   9  10  11  12  13  14  15  16  17  18  19\n",
      "  20  21  22  23  24  25  26  27  28  29  30  31  32  33  34  35  36  37\n",
      "  38  39  40  41  42  43  44  45  46  47  48  49  50  51  52  53  54  55\n",
      "  56  57  58  59  60  61  62  63  64  65  66  67  68  69  70  71  72  73\n",
      "  74  75  76  77  78  79  80  81  82  83  84  85  86  87  88  89  90  91\n",
      "  92  93  94  95  96  97  98  99 100 101 102 103 104 105 106 107 108 109\n",
      " 110 111 112 113 114 115 116 117 118 119 120 121 122 123 124 125 126 127\n",
      " 128 129 130 131 132 133 134 135 136 137 138 139 140 141 142 143 144 145\n",
      " 146 147 148 149 150 151 152 153 154 155 156 157 158 159 160 161 162 163\n",
      " 164 165 166 167 168 169 170 171 172 173 174 175 176 177 178 179 180 181\n",
      " 182 183 184 185 186 187 188 189 190 191 192 193 194 195 196 197 198 199\n",
      " 200 201 202 203 204 205 206 207 208 209 210 211 212 213 214 215 216 217\n",
      " 218 219 220 221 222 223 224 225 226 227 228 229 230 231 232 233 234 235\n",
      " 236 237 238 239 240 241 242 243 244 245 246 247 248 249 250 251 252 253\n",
      " 254 255 256 257 258 259 260 261 262 263 264 265 266 267 268 269 270 271\n",
      " 272 273 274 275 276 277 278 279 280 281 282 283 284 285 286 287 288 289\n",
      " 290 291 292 293 294 295 296 297 298 299 300 301 302 303 304 305 306 307\n",
      " 308 309 310 311 312 313 314 315 316 317 318 319 320 321 322 323 324 325\n",
      " 326 327 328 329 330 331 332 333 334 335 336 337 338 339 340 341 342 343\n",
      " 344 345 346 347 348 349 350 351 352 353 354 355 356 357 358 359 360 361\n",
      " 362 363 364 365 366 367 368 369 370 371 372 373 374 375 376 377 378 379\n",
      " 380 381 382 383 384 385 386 387 388 389 390 391 392 393 394 395 396 397\n",
      " 398 399 400 401 402 403 404 405 406 407 408 409 410 411 412 413 414 415\n",
      " 416 417 418 419 420 421 422 423 424 425 426 427 428 429 430 431 432 433\n",
      " 434 435 436 437 438 439 440 441 442 443 444 445 446 447 448 449 450 451\n",
      " 452 453 454 455 456 457 458 459 460 461 462 463 464 465 466 467 468 469\n",
      " 470 471 472 473 474 475 476 477 478 479 480 481 482 483 484 485 486 487\n",
      " 488 489 490 491 492 493 494 495 496 497 498 499]\n",
      "648 events found\n",
      "Event IDs: [1]\n",
      "Trigger channel has a non-zero initial value of 1 (consider using initial_event=True to detect this event)\n",
      "9 events found\n",
      "Event IDs: [ 2  3  4  5  6  7  8  9 10]\n",
      "Trigger channel has a non-zero initial value of 1 (consider using initial_event=True to detect this event)\n",
      "498 events found\n",
      "Event IDs: [  2   3   4   5   6   7   8   9  10  11  12  13  14  15  16  17  18  19\n",
      "  20  21  22  23  24  25  26  27  28  29  30  31  32  33  34  35  36  37\n",
      "  38  39  40  41  42  43  44  45  46  47  48  49  50  51  52  53  54  55\n",
      "  56  57  58  59  60  61  62  63  64  65  66  67  68  69  70  71  72  73\n",
      "  74  75  76  77  78  79  80  81  82  83  84  85  86  87  88  89  90  91\n",
      "  92  93  94  95  96  97  98  99 100 101 102 103 104 105 106 107 108 109\n",
      " 110 111 112 113 114 115 116 117 118 119 120 121 122 123 124 125 126 127\n",
      " 128 129 130 131 132 133 134 135 136 137 138 139 140 141 142 143 144 145\n",
      " 146 147 148 149 150 151 152 153 154 155 156 157 158 159 160 161 162 163\n",
      " 164 165 166 167 168 169 170 171 172 173 174 175 176 177 178 179 180 181\n",
      " 182 183 184 185 186 187 188 189 190 191 192 193 194 195 196 197 198 199\n",
      " 200 201 202 203 204 205 206 207 208 209 210 211 212 213 214 215 216 217\n",
      " 218 219 220 221 222 223 224 225 226 227 228 229 230 231 232 233 234 235\n",
      " 236 237 238 239 240 241 242 243 244 245 246 247 248 249 250 251 252 253\n",
      " 254 255 256 257 258 259 260 261 262 263 264 265 266 267 268 269 270 271\n",
      " 272 273 274 275 276 277 278 279 280 281 282 283 284 285 286 287 288 289\n",
      " 290 291 292 293 294 295 296 297 298 299 300 301 302 303 304 305 306 307\n",
      " 308 309 310 311 312 313 314 315 316 317 318 319 320 321 322 323 324 325\n",
      " 326 327 328 329 330 331 332 333 334 335 336 337 338 339 340 341 342 343\n",
      " 344 345 346 347 348 349 350 351 352 353 354 355 356 357 358 359 360 361\n",
      " 362 363 364 365 366 367 368 369 370 371 372 373 374 375 376 377 378 379\n",
      " 380 381 382 383 384 385 386 387 388 389 390 391 392 393 394 395 396 397\n",
      " 398 399 400 401 402 403 404 405 406 407 408 409 410 411 412 413 414 415\n",
      " 416 417 418 419 420 421 422 423 424 425 426 427 428 429 430 431 432 433\n",
      " 434 435 436 437 438 439 440 441 442 443 444 445 446 447 448 449 450 451\n",
      " 452 453 454 455 456 457 458 459 460 461 462 463 464 465 466 467 468 469\n",
      " 470 471 472 473 474 475 476 477 478 479 480 481 482 483 484 485 486 487\n",
      " 488 489 490 491 492 493 494 495 496 497 498 499]\n"
     ]
    }
   ],
   "source": [
    "raw = mne.io.RawArray(np.concatenate([mat['export_EMG'], \n",
    "                mat['export_X'], \n",
    "                mat['export_Y'], \n",
    "                mat['export_OnPaper'], \n",
    "                mat['export_Type'], \n",
    "                mat['export_Trial']], axis=-1).T,\n",
    "               mne.create_info(['emg%i'%i for i in range(8)] + ['X', 'Y', 'OnPaper', 'Type', 'Trial'], \n",
    "                               sfreq=1000,\n",
    "                               ch_types=['emg']*8+['misc']*2+['stim']*3))\n",
    "\n",
    "raw.apply_hilbert(picks='emg', envelope=True)\n",
    "raw.filter(0, 5, picks=['emg', 'misc']);\n",
    "raw.resample(10);\n",
    "\n",
    "xmin, ymin = raw.get_data(picks=['X', 'Y']).min(-1)\n",
    "xmax, ymax = raw.get_data(picks=['X', 'Y']).max(-1)"
   ]
  },
  {
   "cell_type": "markdown",
   "id": "583e9e98-fb59-47c2-96aa-18bf4710762c",
   "metadata": {
    "tags": []
   },
   "source": [
    "## OnPaper Decimation"
   ]
  },
  {
   "cell_type": "code",
   "execution_count": 7,
   "id": "c58d5364-2bfc-4a3f-850f-0b83ae149f76",
   "metadata": {},
   "outputs": [
    {
     "data": {
      "application/vnd.jupyter.widget-view+json": {
       "model_id": "f4697cf410fa441c8fdf93d2b9713bcc",
       "version_major": 2,
       "version_minor": 0
      },
      "text/plain": [
       "Canvas(toolbar=Toolbar(toolitems=[('Home', 'Reset original view', 'home', 'home'), ('Back', 'Back to previous …"
      ]
     },
     "metadata": {},
     "output_type": "display_data"
    },
    {
     "data": {
      "text/plain": [
       "Text(0.5, 1.0, 'Finding OnPaper threshold')"
      ]
     },
     "execution_count": 7,
     "metadata": {},
     "output_type": "execute_result"
    }
   ],
   "source": [
    "trace = raw.get_data(picks=['OnPaper'])[0]\n",
    "\n",
    "plt.figure()\n",
    "plt.hist(trace[trace>0], bins=100)\n",
    "plt.axvline(0.5, color='r')\n",
    "plt.yscale('log')\n",
    "plt.title('Finding OnPaper threshold')"
   ]
  },
  {
   "cell_type": "code",
   "execution_count": 8,
   "id": "b8c2c5a0-bd9f-41f1-9764-b7998a523868",
   "metadata": {},
   "outputs": [
    {
     "data": {
      "application/vnd.jupyter.widget-view+json": {
       "model_id": "d466f4fbe2264b878a168037b66c716d",
       "version_major": 2,
       "version_minor": 0
      },
      "text/plain": [
       "Canvas(toolbar=Toolbar(toolitems=[('Home', 'Reset original view', 'home', 'home'), ('Back', 'Back to previous …"
      ]
     },
     "metadata": {},
     "output_type": "display_data"
    }
   ],
   "source": [
    "df_onpaper_silent = regionprops1d(trace<0.5)\n",
    "\n",
    "plt.figure()\n",
    "plt.hist(df_onpaper_silent[\"Length\"], bins=100)\n",
    "plt.title('OnPaper Silent Duration')\n",
    "plt.yscale('log')"
   ]
  },
  {
   "cell_type": "code",
   "execution_count": 9,
   "id": "c38ae9b5-c603-4f8b-a03f-c78647f60220",
   "metadata": {},
   "outputs": [
    {
     "data": {
      "application/vnd.jupyter.widget-view+json": {
       "model_id": "fc814b7d990f4ad680cd54cb4ad55b48",
       "version_major": 2,
       "version_minor": 0
      },
      "text/plain": [
       "Canvas(toolbar=Toolbar(toolitems=[('Home', 'Reset original view', 'home', 'home'), ('Back', 'Back to previous …"
      ]
     },
     "metadata": {},
     "output_type": "display_data"
    },
    {
     "data": {
      "application/vnd.jupyter.widget-view+json": {
       "model_id": "359d004974094cab9db8a34434584086",
       "version_major": 2,
       "version_minor": 0
      },
      "text/plain": [
       "Canvas(toolbar=Toolbar(toolitems=[('Home', 'Reset original view', 'home', 'home'), ('Back', 'Back to previous …"
      ]
     },
     "metadata": {},
     "output_type": "display_data"
    }
   ],
   "source": [
    "from scipy.ndimage import binary_closing\n",
    "OnPaperMask = binary_closing(trace>0.5, structure=np.ones(10))\n",
    "\n",
    "df_onpaper = regionprops1d(OnPaperMask, raw.get_data(picks=['Type'])[0,:])\n",
    "df_onpaper.drop(columns=['Mean', 'STD', 'Min', 'Max'], inplace=True)\n",
    "df_onpaper.rename(columns={'Median': 'Type'}, inplace=True)\n",
    "\n",
    "plt.figure()\n",
    "plt.hist(df_onpaper.Onset.diff(), bins=100)\n",
    "plt.title('Inter OnPaper')\n",
    "\n",
    "fig, axx = plt.subplots(2, 5, figsize=(6,4), sharex=True, sharey=True)\n",
    "for i, (ax, (g_name, g)) in enumerate(zip(axx.reshape(-1), df_onpaper.groupby('Type'))):\n",
    "    plt.sca(ax)\n",
    "    plt.hist(g.Length/raw.info['sfreq'], bins=np.arange(0, 4.1, 0.25))\n",
    "#     plt.text(4, np.mean(plt.ylim()), f'{g_name-1:.0f}', fontsize=30, rotation=0, va='center')\n",
    "    plt.title(i)\n",
    "    if (i in np.arange(5,10)):\n",
    "#         plt.xlabel('s')\n",
    "        plt.xticks([0, 4], [0, '4s'])\n",
    "    plt.xlim(0, 4)\n",
    "    plt.gca().spines['right'].set_visible(False)\n",
    "    plt.gca().spines['top'].set_visible(False)\n",
    "    \n",
    "plt.suptitle('Gesture Duration Histogram', y=1)\n",
    "\n",
    "plt.tight_layout()\n",
    "\n",
    "plt.savefig(os.path.join('figures', 'individual subject gesture duration.pdf'))\n",
    "plt.savefig(os.path.join('figures', 'individual subject gesture duration.png'))"
   ]
  },
  {
   "cell_type": "markdown",
   "id": "fceaa3a2-4c3e-467b-9dfe-775f3749fa30",
   "metadata": {
    "tags": []
   },
   "source": [
    "## Trial Events"
   ]
  },
  {
   "cell_type": "code",
   "execution_count": 10,
   "id": "0e04ea13-c8e3-48a5-b253-61f53172ca1a",
   "metadata": {},
   "outputs": [
    {
     "name": "stdout",
     "output_type": "stream",
     "text": [
      "Trigger channel has a non-zero initial value of 1 (consider using initial_event=True to detect this event)\n",
      "498 events found\n",
      "Event IDs: [  2   3   4   5   6   7   8   9  10  11  12  13  14  15  16  17  18  19\n",
      "  20  21  22  23  24  25  26  27  28  29  30  31  32  33  34  35  36  37\n",
      "  38  39  40  41  42  43  44  45  46  47  48  49  50  51  52  53  54  55\n",
      "  56  57  58  59  60  61  62  63  64  65  66  67  68  69  70  71  72  73\n",
      "  74  75  76  77  78  79  80  81  82  83  84  85  86  87  88  89  90  91\n",
      "  92  93  94  95  96  97  98  99 100 101 102 103 104 105 106 107 108 109\n",
      " 110 111 112 113 114 115 116 117 118 119 120 121 122 123 124 125 126 127\n",
      " 128 129 130 131 132 133 134 135 136 137 138 139 140 141 142 143 144 145\n",
      " 146 147 148 149 150 151 152 153 154 155 156 157 158 159 160 161 162 163\n",
      " 164 165 166 167 168 169 170 171 172 173 174 175 176 177 178 179 180 181\n",
      " 182 183 184 185 186 187 188 189 190 191 192 193 194 195 196 197 198 199\n",
      " 200 201 202 203 204 205 206 207 208 209 210 211 212 213 214 215 216 217\n",
      " 218 219 220 221 222 223 224 225 226 227 228 229 230 231 232 233 234 235\n",
      " 236 237 238 239 240 241 242 243 244 245 246 247 248 249 250 251 252 253\n",
      " 254 255 256 257 258 259 260 261 262 263 264 265 266 267 268 269 270 271\n",
      " 272 273 274 275 276 277 278 279 280 281 282 283 284 285 286 287 288 289\n",
      " 290 291 292 293 294 295 296 297 298 299 300 301 302 303 304 305 306 307\n",
      " 308 309 310 311 312 313 314 315 316 317 318 319 320 321 322 323 324 325\n",
      " 326 327 328 329 330 331 332 333 334 335 336 337 338 339 340 341 342 343\n",
      " 344 345 346 347 348 349 350 351 352 353 354 355 356 357 358 359 360 361\n",
      " 362 363 364 365 366 367 368 369 370 371 372 373 374 375 376 377 378 379\n",
      " 380 381 382 383 384 385 386 387 388 389 390 391 392 393 394 395 396 397\n",
      " 398 399 400 401 402 403 404 405 406 407 408 409 410 411 412 413 414 415\n",
      " 416 417 418 419 420 421 422 423 424 425 426 427 428 429 430 431 432 433\n",
      " 434 435 436 437 438 439 440 441 442 443 444 445 446 447 448 449 450 451\n",
      " 452 453 454 455 456 457 458 459 460 461 462 463 464 465 466 467 468 469\n",
      " 470 471 472 473 474 475 476 477 478 479 480 481 482 483 484 485 486 487\n",
      " 488 489 490 491 492 493 494 495 496 497 498 499]\n"
     ]
    },
    {
     "data": {
      "application/vnd.jupyter.widget-view+json": {
       "model_id": "de70c548e5974b12a2c23dd69536bb2f",
       "version_major": 2,
       "version_minor": 0
      },
      "text/plain": [
       "Canvas(toolbar=Toolbar(toolitems=[('Home', 'Reset original view', 'home', 'home'), ('Back', 'Back to previous …"
      ]
     },
     "metadata": {},
     "output_type": "display_data"
    },
    {
     "data": {
      "text/plain": [
       "Text(0.5, 1.0, 'Intertrial delay')"
      ]
     },
     "execution_count": 10,
     "metadata": {},
     "output_type": "execute_result"
    }
   ],
   "source": [
    "events = mne.find_events(raw, stim_channel='Trial')\n",
    "\n",
    "plt.figure()\n",
    "plt.hist(np.diff(events[:,0])/raw.info['sfreq'], bins=100)\n",
    "plt.title('Intertrial delay')"
   ]
  },
  {
   "cell_type": "code",
   "execution_count": 11,
   "id": "f3925f40-50ae-4e38-a02e-939d6fb4ed91",
   "metadata": {},
   "outputs": [
    {
     "data": {
      "application/vnd.jupyter.widget-view+json": {
       "model_id": "1792712eafd6435e8d0e0c7aa707d2cc",
       "version_major": 2,
       "version_minor": 0
      },
      "text/plain": [
       "Canvas(toolbar=Toolbar(toolitems=[('Home', 'Reset original view', 'home', 'home'), ('Back', 'Back to previous …"
      ]
     },
     "metadata": {},
     "output_type": "display_data"
    }
   ],
   "source": [
    "raw.plot(scalings={'emg':1},\n",
    "         events = events,\n",
    "         duration=100);"
   ]
  },
  {
   "cell_type": "markdown",
   "id": "4f18c593-5a30-4367-8c5a-011abd910c61",
   "metadata": {},
   "source": [
    "## Center events on OnPaper onset"
   ]
  },
  {
   "cell_type": "code",
   "execution_count": 12,
   "id": "9e046113-6247-4d3d-97e6-caf091ce9536",
   "metadata": {},
   "outputs": [
    {
     "name": "stdout",
     "output_type": "stream",
     "text": [
      "Trigger channel has a non-zero initial value of 1 (consider using initial_event=True to detect this event)\n",
      "498 events found\n",
      "Event IDs: [  2   3   4   5   6   7   8   9  10  11  12  13  14  15  16  17  18  19\n",
      "  20  21  22  23  24  25  26  27  28  29  30  31  32  33  34  35  36  37\n",
      "  38  39  40  41  42  43  44  45  46  47  48  49  50  51  52  53  54  55\n",
      "  56  57  58  59  60  61  62  63  64  65  66  67  68  69  70  71  72  73\n",
      "  74  75  76  77  78  79  80  81  82  83  84  85  86  87  88  89  90  91\n",
      "  92  93  94  95  96  97  98  99 100 101 102 103 104 105 106 107 108 109\n",
      " 110 111 112 113 114 115 116 117 118 119 120 121 122 123 124 125 126 127\n",
      " 128 129 130 131 132 133 134 135 136 137 138 139 140 141 142 143 144 145\n",
      " 146 147 148 149 150 151 152 153 154 155 156 157 158 159 160 161 162 163\n",
      " 164 165 166 167 168 169 170 171 172 173 174 175 176 177 178 179 180 181\n",
      " 182 183 184 185 186 187 188 189 190 191 192 193 194 195 196 197 198 199\n",
      " 200 201 202 203 204 205 206 207 208 209 210 211 212 213 214 215 216 217\n",
      " 218 219 220 221 222 223 224 225 226 227 228 229 230 231 232 233 234 235\n",
      " 236 237 238 239 240 241 242 243 244 245 246 247 248 249 250 251 252 253\n",
      " 254 255 256 257 258 259 260 261 262 263 264 265 266 267 268 269 270 271\n",
      " 272 273 274 275 276 277 278 279 280 281 282 283 284 285 286 287 288 289\n",
      " 290 291 292 293 294 295 296 297 298 299 300 301 302 303 304 305 306 307\n",
      " 308 309 310 311 312 313 314 315 316 317 318 319 320 321 322 323 324 325\n",
      " 326 327 328 329 330 331 332 333 334 335 336 337 338 339 340 341 342 343\n",
      " 344 345 346 347 348 349 350 351 352 353 354 355 356 357 358 359 360 361\n",
      " 362 363 364 365 366 367 368 369 370 371 372 373 374 375 376 377 378 379\n",
      " 380 381 382 383 384 385 386 387 388 389 390 391 392 393 394 395 396 397\n",
      " 398 399 400 401 402 403 404 405 406 407 408 409 410 411 412 413 414 415\n",
      " 416 417 418 419 420 421 422 423 424 425 426 427 428 429 430 431 432 433\n",
      " 434 435 436 437 438 439 440 441 442 443 444 445 446 447 448 449 450 451\n",
      " 452 453 454 455 456 457 458 459 460 461 462 463 464 465 466 467 468 469\n",
      " 470 471 472 473 474 475 476 477 478 479 480 481 482 483 484 485 486 487\n",
      " 488 489 490 491 492 493 494 495 496 497 498 499]\n",
      "Not setting metadata\n",
      "Not setting metadata\n",
      "498 matching events found\n",
      "No baseline correction applied\n",
      "0 projection items activated\n",
      "Loading data for 498 events and 51 original time points ...\n",
      "0 bad epochs dropped\n",
      "(498, 3)\n",
      "Loading data for 498 events and 51 original time points ...\n",
      "(496, 4)\n"
     ]
    }
   ],
   "source": [
    "events = mne.find_events(raw, stim_channel='Trial')\n",
    "epochs = mne.Epochs(raw, events=events, tmin=0, tmax=5, preload=False, picks='all', baseline=None)\n",
    "epochs.events[:,-1] = np.median(epochs.get_data(picks=['Type']), -1).reshape(-1).astype(int)\n",
    "\n",
    "df_events = pd.DataFrame(epochs.events, columns=['ts', 'idx', 'code'])\n",
    "print(df_events.shape)\n",
    "\n",
    "s_shifts = pd.DataFrame(np.where(np.diff(epochs.get_data(picks=['OnPaper'])[:,0,:], axis=-1)>0.5)).T.groupby(0)[1].min()\n",
    "s_shifts.name = 'shift'\n",
    "\n",
    "df_events = pd.merge(df_events, s_shifts, left_index=True, right_index=True)\n",
    "\n",
    "df_events.ts += df_events['shift']\n",
    "\n",
    "on_paper_events = df_events.iloc[:, :3]\n",
    "\n",
    "print(df_events.shape)"
   ]
  },
  {
   "cell_type": "markdown",
   "id": "59170e03-3916-42a1-b3e7-26e8b3e59266",
   "metadata": {},
   "source": [
    "### On paper epochs\n"
   ]
  },
  {
   "cell_type": "code",
   "execution_count": 13,
   "id": "6b421602-4eef-4d7d-a474-52ff0460c6cb",
   "metadata": {},
   "outputs": [
    {
     "name": "stdout",
     "output_type": "stream",
     "text": [
      "Not setting metadata\n",
      "Not setting metadata\n",
      "496 matching events found\n",
      "No baseline correction applied\n",
      "0 projection items activated\n",
      "Loading data for 496 events and 51 original time points ...\n",
      "0 bad epochs dropped\n"
     ]
    },
    {
     "data": {
      "application/vnd.jupyter.widget-view+json": {
       "model_id": "f8ac4b66d8d6496a9013e2b0c7ffaed4",
       "version_major": 2,
       "version_minor": 0
      },
      "text/plain": [
       "Canvas(toolbar=Toolbar(toolitems=[('Home', 'Reset original view', 'home', 'home'), ('Back', 'Back to previous …"
      ]
     },
     "metadata": {},
     "output_type": "display_data"
    }
   ],
   "source": [
    "epochs = mne.Epochs(raw, events=on_paper_events, \n",
    "                    tmin=-1, tmax=4,\n",
    "                    preload=True, picks='all', baseline=None)\n",
    "\n",
    "epochs.plot(scalings={'emg':1}, \n",
    "            picks='all', \n",
    "            events=epochs.events);"
   ]
  },
  {
   "cell_type": "markdown",
   "id": "42ba6923-3791-46c2-b003-cc2145ef4358",
   "metadata": {
    "tags": []
   },
   "source": [
    "## Gesture Duration"
   ]
  },
  {
   "cell_type": "code",
   "execution_count": 14,
   "id": "3e955039-bb19-4c56-bd09-d719103126b0",
   "metadata": {},
   "outputs": [
    {
     "data": {
      "application/vnd.jupyter.widget-view+json": {
       "model_id": "b6ccf2297ffc452f8325f4ad65092aba",
       "version_major": 2,
       "version_minor": 0
      },
      "text/plain": [
       "Canvas(toolbar=Toolbar(toolitems=[('Home', 'Reset original view', 'home', 'home'), ('Back', 'Back to previous …"
      ]
     },
     "metadata": {},
     "output_type": "display_data"
    }
   ],
   "source": [
    "offsets = pd.DataFrame(np.where(np.diff(epochs.get_data(picks=['OnPaper'])[:,0,:], axis=-1)<-0.5), \n",
    "                       index=('epoch', 'ts')).T.groupby('epoch').max()-10\n",
    "plt.figure()\n",
    "plt.hist(offsets, bins=100)\n",
    "plt.title('Gesture Duration')\n",
    "plt.axvline(4*epochs.info['sfreq'], color='r')\n",
    "\n",
    "assert(offsets.ts.max()<40)"
   ]
  },
  {
   "cell_type": "code",
   "execution_count": 15,
   "id": "f755ef6a-8b01-4ce9-951b-49833c20c2d5",
   "metadata": {},
   "outputs": [
    {
     "data": {
      "application/vnd.jupyter.widget-view+json": {
       "model_id": "9df01658534e4ffb86477eb72ff32d63",
       "version_major": 2,
       "version_minor": 0
      },
      "text/plain": [
       "Canvas(toolbar=Toolbar(toolitems=[('Home', 'Reset original view', 'home', 'home'), ('Back', 'Back to previous …"
      ]
     },
     "metadata": {},
     "output_type": "display_data"
    }
   ],
   "source": [
    "epochs[offsets.ts>30].plot(scalings={'emg':1}, \n",
    "            picks='all', \n",
    "            events=epochs.events);"
   ]
  },
  {
   "cell_type": "code",
   "execution_count": 16,
   "id": "a049f672-fad8-4201-b106-7523857f06ed",
   "metadata": {},
   "outputs": [
    {
     "data": {
      "application/vnd.jupyter.widget-view+json": {
       "model_id": "6a05a5b5c9274b5eb7f6af88cbb0f9a2",
       "version_major": 2,
       "version_minor": 0
      },
      "text/plain": [
       "Canvas(toolbar=Toolbar(toolitems=[('Home', 'Reset original view', 'home', 'home'), ('Back', 'Back to previous …"
      ]
     },
     "metadata": {},
     "output_type": "display_data"
    }
   ],
   "source": [
    "fig, axx = plt.subplots(2, 5, sharex=True, sharey=True)\n",
    "\n",
    "for i, (k, ax) in enumerate(zip(epochs.event_id.keys(), axx.reshape(-1))):\n",
    "    plt.sca(ax)\n",
    "    for X, Y, OnPaper in epochs[k].get_data(['X', 'Y', 'OnPaper']):\n",
    "        mask = OnPaper>0.5\n",
    "        plt.plot(X[mask], Y[mask], alpha=0.2, lw=1)\n",
    "        plt.axis('image')\n",
    "    \n",
    "#     plt.xlim(xmin, xmax)\n",
    "#     plt.ylim(ymin, ymax)\n",
    "#     plt.title(k-1)\n",
    "    plt.axis('off')\n",
    "#     break\n",
    "    \n",
    "plt.tight_layout()\n",
    "\n",
    "plt.savefig(os.path.join('figures', 'individual xy traces.pdf'))\n",
    "plt.savefig(os.path.join('figures', 'individual xy traces.png'))"
   ]
  },
  {
   "cell_type": "markdown",
   "id": "1a6d942d-8c01-4808-b39e-91b6481d3416",
   "metadata": {
    "tags": []
   },
   "source": [
    "## Decomposition"
   ]
  },
  {
   "cell_type": "code",
   "execution_count": 17,
   "id": "13b973ad-64b1-45f2-8d5a-e909a2cb6482",
   "metadata": {},
   "outputs": [
    {
     "name": "stdout",
     "output_type": "stream",
     "text": [
      "Not setting metadata\n",
      "Not setting metadata\n",
      "496 matching events found\n",
      "No baseline correction applied\n",
      "0 projection items activated\n",
      "Loading data for 496 events and 41 original time points ...\n",
      "0 bad epochs dropped\n"
     ]
    }
   ],
   "source": [
    "epochs = mne.Epochs(raw, events=on_paper_events, \n",
    "                    tmin=0, tmax=4,\n",
    "                    preload=True, picks='all', baseline=None)\n",
    "\n",
    "X = epochs.get_data(picks='emg').reshape(len(epochs), -1)\n",
    "y = epochs.events[:, -1]"
   ]
  },
  {
   "cell_type": "code",
   "execution_count": 18,
   "id": "ff4ae0a2-bae1-4919-a087-0596157672eb",
   "metadata": {},
   "outputs": [],
   "source": [
    "from sklearn.pipeline import Pipeline\n",
    "from sklearn.decomposition import PCA\n",
    "from sklearn.manifold import TSNE\n",
    "\n",
    "pipe = Pipeline([('PCA', PCA(n_components=30)), \n",
    "                 ('TSNE', TSNE())])\n",
    "tv = pipe.fit_transform(X)"
   ]
  },
  {
   "cell_type": "code",
   "execution_count": 19,
   "id": "d2da0c5f-4c1b-4edb-9b0f-aeb5b0b5d463",
   "metadata": {},
   "outputs": [
    {
     "data": {
      "application/vnd.jupyter.widget-view+json": {
       "model_id": "bfb15d3d20e24faeabbdc1348c75e27c",
       "version_major": 2,
       "version_minor": 0
      },
      "text/plain": [
       "Canvas(toolbar=Toolbar(toolitems=[('Home', 'Reset original view', 'home', 'home'), ('Back', 'Back to previous …"
      ]
     },
     "metadata": {},
     "output_type": "display_data"
    }
   ],
   "source": [
    "plt.figure()\n",
    "s = plt.scatter(*(tv.T), c=y-1, s=2, cmap=plt.get_cmap('jet', 10), vmin=-0.5, vmax=9.5)\n",
    "c = plt.colorbar()\n",
    "c.set_label('Gesture')\n",
    "c.set_ticks(np.arange(10))\n",
    "plt.box(False)\n",
    "\n",
    "plt.title('Unsupervised EMG decomposition')\n",
    "plt.xlabel('t1')\n",
    "plt.ylabel('t2')\n",
    "\n",
    "plt.savefig(os.path.join('figures', 'EMG decomposition.pdf'))\n",
    "plt.savefig(os.path.join('figures', 'EMG decomposition.png'))"
   ]
  },
  {
   "cell_type": "markdown",
   "id": "df1e4351-7161-41d9-b673-d4d655cb717f",
   "metadata": {},
   "source": [
    "### EMG figure"
   ]
  },
  {
   "cell_type": "code",
   "execution_count": 22,
   "id": "5444d4e1-afbb-43d5-8e59-785dc7fc9900",
   "metadata": {},
   "outputs": [
    {
     "data": {
      "application/vnd.jupyter.widget-view+json": {
       "model_id": "1a8a415056e242b9a87be3796dad8b46",
       "version_major": 2,
       "version_minor": 0
      },
      "text/plain": [
       "Canvas(toolbar=Toolbar(toolitems=[('Home', 'Reset original view', 'home', 'home'), ('Back', 'Back to previous …"
      ]
     },
     "metadata": {},
     "output_type": "display_data"
    }
   ],
   "source": [
    "fig, axxx = plt.subplots(2, 10, sharex=True, sharey='row', gridspec_kw={'height_ratios':[5, 1]}, figsize=(6,6))\n",
    "data = epochs[[1, 52, 101, 151, 201, 251, 301, 351, 401, 451]].get_data(picks=np.arange(10))\n",
    "for i, (axx, d) in enumerate(zip(axxx.T, data)):\n",
    "    ax = axx[0]\n",
    "    plt.sca(ax)\n",
    "    plt.plot(epochs.times, d[:8].T/3 - np.arange(8), color='k', lw=1)\n",
    "    if i == 0:\n",
    "        plt.yticks(-np.arange(8), epochs.ch_names[:8])\n",
    "    plt.box(False)\n",
    "    plt.title(i)\n",
    "    \n",
    "    ax = axx[1]\n",
    "    plt.sca(ax)\n",
    "    plt.plot(epochs.times, (d[8:]-d[8:,[0]]).T/150 - np.arange(2), color='C2', lw=1)\n",
    "    if i == 0:\n",
    "        plt.yticks(-np.arange(2), ['X', 'Y'])\n",
    "        \n",
    "    plt.xticks([0, 4], [0, '4s'])\n",
    "    plt.box(False)\n",
    "plt.suptitle('Individual Gesture Recordings', y=1)\n",
    "plt.tight_layout(pad=.5)\n",
    "\n",
    "plt.savefig(os.path.join('figures', 'individual emg.pdf'))\n",
    "plt.savefig(os.path.join('figures', 'individual emg.png'))"
   ]
  },
  {
   "cell_type": "markdown",
   "id": "f05cbdf0-855f-4e9b-ac62-3ac18743eb59",
   "metadata": {},
   "source": [
    "## Classifier"
   ]
  },
  {
   "cell_type": "code",
   "execution_count": 23,
   "id": "9d5d0318-2134-4896-87e3-e8abc7fc2971",
   "metadata": {},
   "outputs": [
    {
     "name": "stdout",
     "output_type": "stream",
     "text": [
      "Not setting metadata\n",
      "Not setting metadata\n",
      "496 matching events found\n",
      "No baseline correction applied\n",
      "0 projection items activated\n",
      "Loading data for 496 events and 51 original time points ...\n",
      "0 bad epochs dropped\n",
      "Train (396, 8, 51) Test (100, 8, 51)\n"
     ]
    }
   ],
   "source": [
    "from sklearn.model_selection import train_test_split\n",
    "\n",
    "epochs = mne.Epochs(raw, events=on_paper_events, \n",
    "                    tmin=-1, tmax=4,\n",
    "                    preload=True, picks='all', baseline=None)\n",
    "epochs.events[:,-1] -=1\n",
    "\n",
    "X = epochs.get_data(picks='emg')\n",
    "y = epochs.events[:,-1].astype(int)-1\n",
    "\n",
    "X_train, X_test, y_train, y_test = train_test_split(X, y, test_size=100, stratify=y)\n",
    "print('Train', X_train.shape, 'Test', X_test.shape)"
   ]
  },
  {
   "cell_type": "code",
   "execution_count": 24,
   "id": "72bc64da-523b-4301-9707-47a62163b9f0",
   "metadata": {},
   "outputs": [
    {
     "data": {
      "application/vnd.jupyter.widget-view+json": {
       "model_id": "9d3a662bf659451faf5a9309ceffee82",
       "version_major": 2,
       "version_minor": 0
      },
      "text/plain": [
       "Canvas(toolbar=Toolbar(toolitems=[('Home', 'Reset original view', 'home', 'home'), ('Back', 'Back to previous …"
      ]
     },
     "metadata": {},
     "output_type": "display_data"
    }
   ],
   "source": [
    "epochs[[1, 52, 101, 151, 201, 251, 301, 351, 401, 451]].plot(scalings={'emg':3, \n",
    "                                                                       'misc':150}, \n",
    "                                                             picks=np.arange(10), \n",
    "                                                             events=epochs.events);"
   ]
  },
  {
   "cell_type": "markdown",
   "id": "7ac4f131-54c3-45ad-957c-5b01631233d2",
   "metadata": {},
   "source": [
    "## Dataset"
   ]
  },
  {
   "cell_type": "code",
   "execution_count": 25,
   "id": "761e5e1f-3d9b-4621-bbfa-96a037929a14",
   "metadata": {},
   "outputs": [
    {
     "name": "stdout",
     "output_type": "stream",
     "text": [
      "Not setting metadata\n",
      "Not setting metadata\n",
      "496 matching events found\n",
      "No baseline correction applied\n",
      "0 projection items activated\n",
      "Loading data for 496 events and 51 original time points ...\n",
      "0 bad epochs dropped\n",
      "Train (396, 8, 51) Test (100, 8, 51)\n"
     ]
    }
   ],
   "source": [
    "from sklearn.model_selection import train_test_split\n",
    "\n",
    "epochs = mne.Epochs(raw, events=on_paper_events, \n",
    "                    tmin=-1, tmax=4,\n",
    "                    preload=True, picks='all', baseline=None)\n",
    "\n",
    "X = epochs.get_data(picks='emg')\n",
    "y = epochs.events[:,-1].astype(int)-1\n",
    "\n",
    "X_train, X_test, y_train, y_test = train_test_split(X, y, test_size=100, stratify=y)\n",
    "print('Train', X_train.shape, 'Test', X_test.shape)"
   ]
  },
  {
   "cell_type": "code",
   "execution_count": 26,
   "id": "5af01dd2-6723-41a6-b91b-cc0b4dee0649",
   "metadata": {},
   "outputs": [],
   "source": [
    "import torch\n",
    "from torch.utils.data import Dataset, DataLoader\n",
    "\n",
    "class GestureDataset(Dataset):\n",
    "    def __init__(self, X, y, transform=None):\n",
    "        self.X = X\n",
    "        self.y = y\n",
    "        self.transform = transform\n",
    "        \n",
    "    def __len__(self):\n",
    "        return(len(self.X))\n",
    "        \n",
    "    def __getitem__(self, idx):\n",
    "        sample = np.swapaxes(self.X[idx][..., np.newaxis, :, :], -1, -2)\n",
    "        label  = self.y[idx]\n",
    "        if self.transform:\n",
    "            sample = self.transform(sample).double()\n",
    "        return sample, label\n",
    "        "
   ]
  },
  {
   "cell_type": "code",
   "execution_count": 27,
   "id": "89a79350-9a63-4e27-b3b9-e0b641c28fc5",
   "metadata": {},
   "outputs": [
    {
     "name": "stdout",
     "output_type": "stream",
     "text": [
      "RNN(\n",
      "  (cnn1): Conv2d(1, 32, kernel_size=(1, 8), stride=(1, 1))\n",
      "  (do1): Dropout2d(p=0.5, inplace=False)\n",
      "  (relu1): ReLU()\n",
      "  (lstm2): LSTM(32, 32, num_layers=2, batch_first=True, dropout=0.5)\n",
      "  (fc): Linear(in_features=32, out_features=10, bias=True)\n",
      ")\n"
     ]
    }
   ],
   "source": [
    "from torch import functional as F\n",
    "from torch import nn\n",
    "sequence_length = len(epochs.times)\n",
    "input_size  = 8\n",
    "num_filters = 32\n",
    "hidden_size = 32\n",
    "num_layers  = 2\n",
    "num_classes = 10\n",
    "device='cuda'\n",
    "\n",
    "class RNN(nn.Module):\n",
    "    \n",
    "    def __init__(self, input_size, num_filters, hidden_size, num_layers, num_classes):\n",
    "        super(RNN, self).__init__()\n",
    "        self.hidden_size = hidden_size\n",
    "        self.num_layers = num_layers\n",
    "        self.num_filters = num_filters\n",
    "        \n",
    "        self.cnn1 = nn.Conv2d(in_channels=1, \n",
    "                              out_channels=num_filters, \n",
    "                              kernel_size=(1, input_size), \n",
    "                              stride=1, \n",
    "                              padding=0)\n",
    "        \n",
    "        self.do1 = nn.Dropout2d(p=0.5)\n",
    "        \n",
    "        self.relu1 = nn.ReLU()\n",
    "        \n",
    "        self.lstm2 = nn.LSTM(num_filters, hidden_size, num_layers, batch_first=True, dropout=0.5)\n",
    "\n",
    "#         self.relu2 = nn.ReLU()\n",
    "        self.fc = nn.Linear(hidden_size, num_classes)\n",
    "        pass\n",
    "    \n",
    "    def forward(self, x):\n",
    "        # Set initial hidden and cell states \n",
    "        h0 = torch.zeros(self.num_layers, x.size(0), self.hidden_size).to(device) \n",
    "        c0 = torch.zeros(self.num_layers, x.size(0), self.hidden_size).to(device)\n",
    "        # Passing in the input and hidden state into the model and  obtaining outputs\n",
    "        \n",
    "        out = self.relu1(self.do1(self.cnn1(x)))\n",
    "        out = torch.transpose(out, 1, 2)[..., 0]\n",
    "        \n",
    "        out, hidden = self.lstm2(out, (h0, c0))  # out: tensor of shape (batch_size, seq_length, hidden_size)\n",
    "#         out = self.relu2(out)\n",
    "        \n",
    "        #Reshaping the outputs such that it can be fit into the fully connected layer\n",
    "        out = self.fc(out[:, -1, :]) # taking the last one in the sequence\n",
    "        return out\n",
    "       \n",
    "        pass\n",
    "pass\n",
    "model = RNN(input_size, num_filters, hidden_size, num_layers, num_classes).to(device)\n",
    "print(model)"
   ]
  },
  {
   "cell_type": "code",
   "execution_count": 28,
   "id": "9a42d912-8bb0-4b30-b800-a03482202ef3",
   "metadata": {},
   "outputs": [
    {
     "data": {
      "text/plain": [
       "==========================================================================================\n",
       "Layer (type:depth-idx)                   Output Shape              Param #\n",
       "==========================================================================================\n",
       "RNN                                      --                        --\n",
       "├─Conv2d: 1-1                            [100, 32, 51, 1]          288\n",
       "├─Dropout2d: 1-2                         [100, 32, 51, 1]          --\n",
       "├─ReLU: 1-3                              [100, 32, 51, 1]          --\n",
       "├─LSTM: 1-4                              [100, 51, 32]             16,896\n",
       "├─Linear: 1-5                            [100, 10]                 330\n",
       "==========================================================================================\n",
       "Total params: 17,514\n",
       "Trainable params: 17,514\n",
       "Non-trainable params: 0\n",
       "Total mult-adds (M): 87.67\n",
       "==========================================================================================\n",
       "Input size (MB): 0.16\n",
       "Forward/backward pass size (MB): 2.62\n",
       "Params size (MB): 0.07\n",
       "Estimated Total Size (MB): 2.85\n",
       "=========================================================================================="
      ]
     },
     "execution_count": 28,
     "metadata": {},
     "output_type": "execute_result"
    }
   ],
   "source": [
    "from torchinfo import summary\n",
    "summary(model.cuda(), input_size=(100, 1, sequence_length, input_size))\n",
    "        "
   ]
  },
  {
   "cell_type": "markdown",
   "id": "9cff016b-6413-4051-a1d8-3861d2e24044",
   "metadata": {},
   "source": [
    "## Single Run"
   ]
  },
  {
   "cell_type": "code",
   "execution_count": 29,
   "id": "c55b11a9-431f-468a-9638-b1b91d658c42",
   "metadata": {},
   "outputs": [
    {
     "name": "stdout",
     "output_type": "stream",
     "text": [
      "Train (396, 8, 51) Test (100, 8, 51)\n"
     ]
    },
    {
     "data": {
      "application/vnd.jupyter.widget-view+json": {
       "model_id": "ad9b002ac37949b389604cbbc490aea6",
       "version_major": 2,
       "version_minor": 0
      },
      "text/plain": [
       "Canvas(toolbar=Toolbar(toolitems=[('Home', 'Reset original view', 'home', 'home'), ('Back', 'Back to previous …"
      ]
     },
     "metadata": {},
     "output_type": "display_data"
    },
    {
     "data": {
      "application/vnd.jupyter.widget-view+json": {
       "model_id": "662e87eda2e14ce38c514760a44ec788",
       "version_major": 2,
       "version_minor": 0
      },
      "text/plain": [
       "  0%|          | 0/1000 [00:00<?, ?it/s]"
      ]
     },
     "metadata": {},
     "output_type": "display_data"
    },
    {
     "name": "stdout",
     "output_type": "stream",
     "text": [
      "Epoch [10/1000], Step [1], Loss: 2.17e+00, Val: 2.22e+00, Accuracy: 0.18 vs 0.17\n",
      "Epoch [20/1000], Step [1], Loss: 2.07e+00, Val: 2.05e+00, Accuracy: 0.19 vs 0.22\n",
      "Epoch [30/1000], Step [1], Loss: 1.99e+00, Val: 1.92e+00, Accuracy: 0.24 vs 0.31\n",
      "Epoch [40/1000], Step [1], Loss: 1.74e+00, Val: 1.85e+00, Accuracy: 0.35 vs 0.30\n",
      "Epoch [50/1000], Step [1], Loss: 1.59e+00, Val: 1.53e+00, Accuracy: 0.37 vs 0.48\n",
      "Epoch [60/1000], Step [1], Loss: 1.51e+00, Val: 1.45e+00, Accuracy: 0.39 vs 0.38\n",
      "Epoch [70/1000], Step [1], Loss: 1.32e+00, Val: 1.35e+00, Accuracy: 0.51 vs 0.48\n",
      "Epoch [80/1000], Step [1], Loss: 1.19e+00, Val: 1.25e+00, Accuracy: 0.53 vs 0.51\n",
      "Epoch [90/1000], Step [1], Loss: 1.10e+00, Val: 1.28e+00, Accuracy: 0.55 vs 0.47\n",
      "Epoch [100/1000], Step [1], Loss: 1.02e+00, Val: 1.07e+00, Accuracy: 0.60 vs 0.56\n",
      "Epoch [110/1000], Step [1], Loss: 1.05e+00, Val: 1.12e+00, Accuracy: 0.60 vs 0.54\n",
      "Epoch [120/1000], Step [1], Loss: 8.81e-01, Val: 9.71e-01, Accuracy: 0.65 vs 0.58\n",
      "Epoch [130/1000], Step [1], Loss: 1.02e+00, Val: 1.07e+00, Accuracy: 0.63 vs 0.63\n",
      "Epoch [140/1000], Step [1], Loss: 8.20e-01, Val: 8.61e-01, Accuracy: 0.68 vs 0.64\n",
      "Epoch [150/1000], Step [1], Loss: 8.62e-01, Val: 7.87e-01, Accuracy: 0.69 vs 0.65\n",
      "Epoch [160/1000], Step [1], Loss: 7.51e-01, Val: 8.72e-01, Accuracy: 0.68 vs 0.66\n",
      "Epoch [170/1000], Step [1], Loss: 6.81e-01, Val: 6.83e-01, Accuracy: 0.74 vs 0.73\n",
      "Epoch [180/1000], Step [1], Loss: 6.59e-01, Val: 7.17e-01, Accuracy: 0.73 vs 0.75\n",
      "Epoch [190/1000], Step [1], Loss: 5.10e-01, Val: 7.08e-01, Accuracy: 0.84 vs 0.76\n",
      "Epoch [200/1000], Step [1], Loss: 5.33e-01, Val: 6.32e-01, Accuracy: 0.82 vs 0.79\n",
      "Epoch [210/1000], Step [1], Loss: 4.80e-01, Val: 5.97e-01, Accuracy: 0.85 vs 0.80\n",
      "Epoch [220/1000], Step [1], Loss: 3.68e-01, Val: 4.47e-01, Accuracy: 0.88 vs 0.85\n",
      "Epoch [230/1000], Step [1], Loss: 3.38e-01, Val: 4.59e-01, Accuracy: 0.89 vs 0.85\n",
      "Epoch [240/1000], Step [1], Loss: 2.83e-01, Val: 4.61e-01, Accuracy: 0.91 vs 0.87\n",
      "Epoch [250/1000], Step [1], Loss: 2.52e-01, Val: 3.57e-01, Accuracy: 0.92 vs 0.87\n",
      "Epoch [260/1000], Step [1], Loss: 2.58e-01, Val: 3.56e-01, Accuracy: 0.90 vs 0.88\n",
      "Epoch [270/1000], Step [1], Loss: 2.48e-01, Val: 6.06e-01, Accuracy: 0.93 vs 0.82\n",
      "Epoch [280/1000], Step [1], Loss: 2.23e-01, Val: 3.80e-01, Accuracy: 0.93 vs 0.85\n",
      "Epoch [290/1000], Step [1], Loss: 2.38e-01, Val: 2.57e-01, Accuracy: 0.92 vs 0.93\n",
      "Epoch [300/1000], Step [1], Loss: 1.74e-01, Val: 2.38e-01, Accuracy: 0.95 vs 0.93\n",
      "Epoch [310/1000], Step [1], Loss: 1.94e-01, Val: 2.52e-01, Accuracy: 0.94 vs 0.92\n",
      "Epoch [320/1000], Step [1], Loss: 1.79e-01, Val: 2.23e-01, Accuracy: 0.94 vs 0.94\n",
      "Epoch [330/1000], Step [1], Loss: 1.33e-01, Val: 3.87e-01, Accuracy: 0.95 vs 0.85\n",
      "Epoch [340/1000], Step [1], Loss: 2.25e-01, Val: 3.91e-01, Accuracy: 0.93 vs 0.83\n",
      "Epoch [350/1000], Step [1], Loss: 1.92e-01, Val: 2.81e-01, Accuracy: 0.95 vs 0.89\n",
      "Epoch [360/1000], Step [1], Loss: 1.39e-01, Val: 3.27e-01, Accuracy: 0.97 vs 0.89\n",
      "Epoch [370/1000], Step [1], Loss: 1.25e-01, Val: 3.96e-01, Accuracy: 0.96 vs 0.87\n",
      "Epoch [380/1000], Step [1], Loss: 1.53e-01, Val: 4.48e-01, Accuracy: 0.96 vs 0.88\n",
      "Epoch [390/1000], Step [1], Loss: 1.38e-01, Val: 4.31e-01, Accuracy: 0.96 vs 0.86\n",
      "Epoch [400/1000], Step [1], Loss: 9.98e-02, Val: 3.35e-01, Accuracy: 0.96 vs 0.88\n",
      "Epoch [410/1000], Step [1], Loss: 1.33e-01, Val: 1.85e-01, Accuracy: 0.96 vs 0.92\n",
      "Epoch [420/1000], Step [1], Loss: 9.52e-02, Val: 2.17e-01, Accuracy: 0.97 vs 0.94\n",
      "Epoch [430/1000], Step [1], Loss: 8.78e-02, Val: 2.45e-01, Accuracy: 0.97 vs 0.95\n",
      "Epoch [440/1000], Step [1], Loss: 1.35e-01, Val: 2.98e-01, Accuracy: 0.94 vs 0.92\n",
      "Epoch [450/1000], Step [1], Loss: 9.94e-02, Val: 2.20e-01, Accuracy: 0.97 vs 0.89\n",
      "Epoch [460/1000], Step [1], Loss: 7.53e-02, Val: 3.15e-01, Accuracy: 0.97 vs 0.92\n",
      "Epoch [470/1000], Step [1], Loss: 1.30e-01, Val: 1.69e-01, Accuracy: 0.96 vs 0.96\n",
      "Epoch [480/1000], Step [1], Loss: 8.44e-02, Val: 1.64e-01, Accuracy: 0.97 vs 0.95\n",
      "Epoch [490/1000], Step [1], Loss: 4.86e-02, Val: 2.46e-01, Accuracy: 0.99 vs 0.91\n",
      "Epoch [500/1000], Step [1], Loss: 7.59e-02, Val: 1.91e-01, Accuracy: 0.97 vs 0.94\n",
      "Epoch [510/1000], Step [1], Loss: 7.10e-02, Val: 3.41e-01, Accuracy: 0.97 vs 0.89\n",
      "Epoch [520/1000], Step [1], Loss: 4.90e-02, Val: 2.12e-01, Accuracy: 0.98 vs 0.93\n",
      "Epoch [530/1000], Step [1], Loss: 4.66e-02, Val: 1.81e-01, Accuracy: 0.98 vs 0.95\n",
      "Epoch [540/1000], Step [1], Loss: 5.47e-02, Val: 2.02e-01, Accuracy: 0.98 vs 0.93\n",
      "Epoch [550/1000], Step [1], Loss: 5.56e-02, Val: 1.65e-01, Accuracy: 0.99 vs 0.96\n",
      "Epoch [560/1000], Step [1], Loss: 3.76e-02, Val: 1.38e-01, Accuracy: 0.99 vs 0.97\n",
      "Epoch [570/1000], Step [1], Loss: 3.83e-02, Val: 1.41e-01, Accuracy: 0.99 vs 0.94\n",
      "Epoch [580/1000], Step [1], Loss: 5.23e-02, Val: 1.59e-01, Accuracy: 0.99 vs 0.94\n",
      "Epoch [590/1000], Step [1], Loss: 2.64e-02, Val: 2.41e-01, Accuracy: 0.99 vs 0.96\n",
      "Epoch [600/1000], Step [1], Loss: 6.12e-02, Val: 1.51e-01, Accuracy: 0.97 vs 0.96\n",
      "Epoch [610/1000], Step [1], Loss: 2.42e-02, Val: 2.59e-01, Accuracy: 0.99 vs 0.97\n",
      "Epoch [620/1000], Step [1], Loss: 1.69e-02, Val: 1.66e-01, Accuracy: 0.99 vs 0.95\n",
      "Epoch [630/1000], Step [1], Loss: 6.51e-02, Val: 2.03e-01, Accuracy: 0.98 vs 0.94\n",
      "Epoch [640/1000], Step [1], Loss: 1.01e-01, Val: 1.41e-01, Accuracy: 0.97 vs 0.95\n",
      "Epoch [650/1000], Step [1], Loss: 2.91e-02, Val: 1.94e-01, Accuracy: 0.99 vs 0.92\n",
      "Epoch [660/1000], Step [1], Loss: 6.14e-02, Val: 1.74e-01, Accuracy: 0.98 vs 0.94\n",
      "Epoch [670/1000], Step [1], Loss: 5.16e-02, Val: 2.51e-01, Accuracy: 0.99 vs 0.93\n",
      "Epoch [680/1000], Step [1], Loss: 4.99e-02, Val: 1.18e-01, Accuracy: 0.98 vs 0.96\n",
      "Epoch [690/1000], Step [1], Loss: 6.15e-02, Val: 1.64e-01, Accuracy: 0.99 vs 0.95\n",
      "Epoch [700/1000], Step [1], Loss: 6.40e-02, Val: 2.54e-01, Accuracy: 0.97 vs 0.95\n",
      "Epoch [710/1000], Step [1], Loss: 4.18e-02, Val: 2.44e-01, Accuracy: 0.99 vs 0.94\n",
      "Epoch [720/1000], Step [1], Loss: 9.27e-02, Val: 2.61e-01, Accuracy: 0.97 vs 0.93\n",
      "Epoch [730/1000], Step [1], Loss: 6.32e-02, Val: 2.18e-01, Accuracy: 0.98 vs 0.93\n",
      "Epoch [740/1000], Step [1], Loss: 1.26e-01, Val: 1.87e-01, Accuracy: 0.97 vs 0.95\n",
      "Epoch [750/1000], Step [1], Loss: 3.87e-02, Val: 2.82e-01, Accuracy: 0.99 vs 0.93\n",
      "Epoch [760/1000], Step [1], Loss: 7.32e-02, Val: 2.65e-01, Accuracy: 0.98 vs 0.95\n",
      "Epoch [770/1000], Step [1], Loss: 9.45e-02, Val: 1.67e-01, Accuracy: 0.98 vs 0.95\n",
      "Epoch [780/1000], Step [1], Loss: 1.21e-01, Val: 2.85e-01, Accuracy: 0.97 vs 0.93\n",
      "Epoch [790/1000], Step [1], Loss: 9.54e-02, Val: 1.40e-01, Accuracy: 0.97 vs 0.93\n",
      "Epoch [800/1000], Step [1], Loss: 6.74e-02, Val: 2.49e-01, Accuracy: 0.98 vs 0.93\n",
      "Epoch [810/1000], Step [1], Loss: 3.37e-02, Val: 1.08e-01, Accuracy: 0.99 vs 0.95\n",
      "Epoch [820/1000], Step [1], Loss: 4.28e-02, Val: 2.07e-01, Accuracy: 0.99 vs 0.93\n",
      "Epoch [830/1000], Step [1], Loss: 1.88e-02, Val: 8.72e-02, Accuracy: 1.00 vs 0.96\n",
      "Epoch [840/1000], Step [1], Loss: 5.32e-02, Val: 1.47e-01, Accuracy: 0.98 vs 0.96\n",
      "Epoch [850/1000], Step [1], Loss: 2.57e-02, Val: 2.32e-01, Accuracy: 0.99 vs 0.94\n",
      "Epoch [860/1000], Step [1], Loss: 4.24e-02, Val: 1.04e-01, Accuracy: 0.98 vs 0.96\n",
      "Epoch [870/1000], Step [1], Loss: 1.94e-02, Val: 1.99e-01, Accuracy: 0.99 vs 0.92\n",
      "Epoch [880/1000], Step [1], Loss: 1.55e-02, Val: 2.01e-01, Accuracy: 1.00 vs 0.95\n",
      "Epoch [890/1000], Step [1], Loss: 3.68e-02, Val: 2.25e-01, Accuracy: 0.99 vs 0.92\n",
      "Epoch [900/1000], Step [1], Loss: 1.05e-02, Val: 1.91e-01, Accuracy: 1.00 vs 0.95\n",
      "Epoch [910/1000], Step [1], Loss: 1.73e-02, Val: 1.07e-01, Accuracy: 1.00 vs 0.95\n",
      "Epoch [920/1000], Step [1], Loss: 4.89e-03, Val: 1.13e-01, Accuracy: 1.00 vs 0.99\n",
      "Epoch [930/1000], Step [1], Loss: 1.93e-02, Val: 1.26e-01, Accuracy: 0.99 vs 0.96\n",
      "Epoch [940/1000], Step [1], Loss: 7.96e-03, Val: 1.65e-01, Accuracy: 1.00 vs 0.95\n",
      "Epoch [950/1000], Step [1], Loss: 3.18e-03, Val: 3.41e-01, Accuracy: 1.00 vs 0.94\n",
      "Epoch [960/1000], Step [1], Loss: 9.37e-03, Val: 1.24e-01, Accuracy: 0.99 vs 0.97\n",
      "Epoch [970/1000], Step [1], Loss: 1.54e-02, Val: 1.19e-01, Accuracy: 0.99 vs 0.96\n",
      "Epoch [980/1000], Step [1], Loss: 3.77e-02, Val: 2.84e-01, Accuracy: 0.99 vs 0.95\n",
      "Epoch [990/1000], Step [1], Loss: 5.15e-02, Val: 2.49e-01, Accuracy: 0.99 vs 0.94\n",
      "Epoch [1000/1000], Step [1], Loss: 1.80e-02, Val: 2.94e-01, Accuracy: 0.99 vs 0.93\n"
     ]
    }
   ],
   "source": [
    "from tqdm.autonotebook import tqdm\n",
    "\n",
    "criterion = nn.CrossEntropyLoss()\n",
    "softmax = nn.Softmax(1)\n",
    "optimizer = torch.optim.Adam(model.parameters(), lr = 0.01)   \n",
    "\n",
    "X_train, X_test, y_train, y_test = train_test_split(X, y, test_size=100, stratify=y)\n",
    "print('Train', X_train.shape, 'Test', X_test.shape)\n",
    "\n",
    "\n",
    "train_loader = DataLoader(GestureDataset(X_train, y_train, transform=torch.from_numpy),\n",
    "                          batch_size = len(y_train), \n",
    "                          shuffle = True)\n",
    "\n",
    "test_loader = DataLoader(GestureDataset(X_test, y_test, transform=torch.from_numpy),\n",
    "                          batch_size = len(y_test), \n",
    "                          shuffle = True)\n",
    "\n",
    "num_epochs = 1000\n",
    "\n",
    "plt.figure()\n",
    "\n",
    "test_accs = []\n",
    "for epoch in tqdm(range(num_epochs)):\n",
    "    for i, (samples, labels) in enumerate(train_loader):\n",
    "        samples = samples.to(device).float()\n",
    "        labels = labels.to(device)\n",
    "\n",
    "        # Forward pass\n",
    "        outputs = model(samples)\n",
    "        acc = (outputs.argmax(-1) == labels).cpu().numpy().mean()\n",
    "        loss = criterion(outputs, labels)\n",
    "        # Backward and optimize\n",
    "        optimizer.zero_grad()\n",
    "        loss.backward()\n",
    "        optimizer.step()\n",
    "        \n",
    "    plt.plot(epoch, loss.item(), '.', color='C0')\n",
    "\n",
    "    if (epoch+1) % (num_epochs//100) == 0:\n",
    "        with torch.no_grad():\n",
    "            for i, (samples, labels) in enumerate(test_loader):\n",
    "                samples = samples.to(device).float()\n",
    "                labels = labels.to(device)\n",
    "\n",
    "                # Forward pass\n",
    "                outputs = model(samples)\n",
    "                acc_val = (outputs.argmax(-1) == labels).cpu().numpy().mean()\n",
    "                test_accs.append(acc_val)\n",
    "                loss_val = criterion(outputs, labels)\n",
    "\n",
    "        print ('Epoch [{}/{}], Step [{}], Loss: {:.2e}, Val: {:.2e}, Accuracy: {:.2f} vs {:.2f}' \n",
    "               .format(epoch + 1, num_epochs, i + 1, loss.item(), loss_val.item(), acc, acc_val))\n",
    "        plt.plot(epoch, loss_val.item(), '.', color='C1')\n",
    "        pass\n",
    "\n",
    "    pass\n",
    "pass"
   ]
  },
  {
   "cell_type": "code",
   "execution_count": 30,
   "id": "c88b155f-47cb-4cce-a8a6-1847f0b707db",
   "metadata": {},
   "outputs": [
    {
     "data": {
      "text/plain": [
       "'/home/hp/myo/figures/rnn.pdf'"
      ]
     },
     "execution_count": 30,
     "metadata": {},
     "output_type": "execute_result"
    }
   ],
   "source": [
    "from torchviz import make_dot\n",
    "\n",
    "for i, (samples, labels) in enumerate(train_loader):\n",
    "        samples = samples.to(device).float()\n",
    "        labels = labels.to(device)\n",
    "        break\n",
    "\n",
    "\n",
    "dot = make_dot(model(samples), \n",
    "         params=dict(model.named_parameters()), \n",
    "         show_attrs=False, \n",
    "         show_saved=True, )\n",
    "\n",
    "dot.render('/home/hp/myo/figures/rnn', format='pdf')"
   ]
  },
  {
   "cell_type": "markdown",
   "id": "b999efc2-381b-486c-bbe4-9c2247f16982",
   "metadata": {},
   "source": [
    "## KFold run"
   ]
  },
  {
   "cell_type": "code",
   "execution_count": 32,
   "id": "b1053cc6-a5a4-42f8-a748-ac9d68ae0f7c",
   "metadata": {
    "tags": []
   },
   "outputs": [
    {
     "name": "stdout",
     "output_type": "stream",
     "text": [
      "(396,) (100,)\n"
     ]
    },
    {
     "data": {
      "application/vnd.jupyter.widget-view+json": {
       "model_id": "a2174dd9c3a54e4d82b95f09adc1b2e3",
       "version_major": 2,
       "version_minor": 0
      },
      "text/plain": [
       "Canvas(toolbar=Toolbar(toolitems=[('Home', 'Reset original view', 'home', 'home'), ('Back', 'Back to previous …"
      ]
     },
     "metadata": {},
     "output_type": "display_data"
    },
    {
     "data": {
      "application/vnd.jupyter.widget-view+json": {
       "model_id": "e3069d5ce1fd4136806b3860309d1843",
       "version_major": 2,
       "version_minor": 0
      },
      "text/plain": [
       "  0%|          | 0/1000 [00:00<?, ?it/s]"
      ]
     },
     "metadata": {},
     "output_type": "display_data"
    },
    {
     "name": "stdout",
     "output_type": "stream",
     "text": [
      "(397,) (99,)\n"
     ]
    },
    {
     "data": {
      "application/vnd.jupyter.widget-view+json": {
       "model_id": "3f4fdc4fed204373babb289dac286c88",
       "version_major": 2,
       "version_minor": 0
      },
      "text/plain": [
       "Canvas(toolbar=Toolbar(toolitems=[('Home', 'Reset original view', 'home', 'home'), ('Back', 'Back to previous …"
      ]
     },
     "metadata": {},
     "output_type": "display_data"
    },
    {
     "data": {
      "application/vnd.jupyter.widget-view+json": {
       "model_id": "53adcbbe374c4df6be3271d5c66a3fa0",
       "version_major": 2,
       "version_minor": 0
      },
      "text/plain": [
       "  0%|          | 0/1000 [00:00<?, ?it/s]"
      ]
     },
     "metadata": {},
     "output_type": "display_data"
    },
    {
     "name": "stdout",
     "output_type": "stream",
     "text": [
      "(397,) (99,)\n"
     ]
    },
    {
     "data": {
      "application/vnd.jupyter.widget-view+json": {
       "model_id": "4bc5a4b347d34c939ebedd547ec43942",
       "version_major": 2,
       "version_minor": 0
      },
      "text/plain": [
       "Canvas(toolbar=Toolbar(toolitems=[('Home', 'Reset original view', 'home', 'home'), ('Back', 'Back to previous …"
      ]
     },
     "metadata": {},
     "output_type": "display_data"
    },
    {
     "data": {
      "application/vnd.jupyter.widget-view+json": {
       "model_id": "81a5c21498ca496b83c45e9171b0257d",
       "version_major": 2,
       "version_minor": 0
      },
      "text/plain": [
       "  0%|          | 0/1000 [00:00<?, ?it/s]"
      ]
     },
     "metadata": {},
     "output_type": "display_data"
    },
    {
     "name": "stdout",
     "output_type": "stream",
     "text": [
      "(397,) (99,)\n"
     ]
    },
    {
     "data": {
      "application/vnd.jupyter.widget-view+json": {
       "model_id": "db257d18dd934bf4b7030789338098fc",
       "version_major": 2,
       "version_minor": 0
      },
      "text/plain": [
       "Canvas(toolbar=Toolbar(toolitems=[('Home', 'Reset original view', 'home', 'home'), ('Back', 'Back to previous …"
      ]
     },
     "metadata": {},
     "output_type": "display_data"
    },
    {
     "data": {
      "application/vnd.jupyter.widget-view+json": {
       "model_id": "2da85d3043944078a4b531ac4ddc4b1c",
       "version_major": 2,
       "version_minor": 0
      },
      "text/plain": [
       "  0%|          | 0/1000 [00:00<?, ?it/s]"
      ]
     },
     "metadata": {},
     "output_type": "display_data"
    },
    {
     "name": "stdout",
     "output_type": "stream",
     "text": [
      "(397,) (99,)\n"
     ]
    },
    {
     "name": "stderr",
     "output_type": "stream",
     "text": [
      "/tmp/ipykernel_70524/1221126587.py:28: RuntimeWarning: More than 20 figures have been opened. Figures created through the pyplot interface (`matplotlib.pyplot.figure`) are retained until explicitly closed and may consume too much memory. (To control this warning, see the rcParam `figure.max_open_warning`).\n",
      "  plt.figure()\n"
     ]
    },
    {
     "data": {
      "application/vnd.jupyter.widget-view+json": {
       "model_id": "4449649315e94fbda9f90671e058c984",
       "version_major": 2,
       "version_minor": 0
      },
      "text/plain": [
       "Canvas(toolbar=Toolbar(toolitems=[('Home', 'Reset original view', 'home', 'home'), ('Back', 'Back to previous …"
      ]
     },
     "metadata": {},
     "output_type": "display_data"
    },
    {
     "data": {
      "application/vnd.jupyter.widget-view+json": {
       "model_id": "b9625abb9a214e9daafcbd57e2839e97",
       "version_major": 2,
       "version_minor": 0
      },
      "text/plain": [
       "  0%|          | 0/1000 [00:00<?, ?it/s]"
      ]
     },
     "metadata": {},
     "output_type": "display_data"
    }
   ],
   "source": [
    "from tqdm.autonotebook import tqdm\n",
    "from sklearn.model_selection import StratifiedKFold\n",
    "kf = StratifiedKFold(n_splits=5, shuffle=True)\n",
    "\n",
    "metrics = {'acc_train': [], 'acc_val': [], 'loss_train': [], 'loss_val': []}\n",
    "\n",
    "for train_index, test_index in kf.split(X, y):\n",
    "    \n",
    "    X_train, y_train = X[train_index], y[train_index]\n",
    "    X_test, y_test = X[test_index], y[test_index]\n",
    "    print(train_index.shape, test_index.shape)\n",
    "    \n",
    "    train_loader = DataLoader(GestureDataset(X_train, y_train, transform=torch.from_numpy),\n",
    "                              batch_size = len(y_train), \n",
    "                              shuffle = True)\n",
    "\n",
    "    test_loader = DataLoader(GestureDataset(X_test, y_test, transform=torch.from_numpy),\n",
    "                              batch_size = len(y_test), \n",
    "                              shuffle = True)\n",
    "\n",
    "    num_epochs = 1000\n",
    "    \n",
    "    model = RNN(input_size, num_filters, hidden_size, num_layers, num_classes).to(device)\n",
    "    criterion = nn.CrossEntropyLoss()\n",
    "    softmax = nn.Softmax(1)\n",
    "    optimizer = torch.optim.Adam(model.parameters(), lr = 0.01)   \n",
    "\n",
    "    plt.figure()\n",
    "\n",
    "    loss_train_ = []\n",
    "    loss_val_ = []\n",
    "    acc_train_ = []\n",
    "    acc_val_ = []\n",
    "    \n",
    "    for epoch in tqdm(range(num_epochs)):\n",
    "        for i, (samples, labels) in enumerate(train_loader):\n",
    "            samples = samples.to(device).float()\n",
    "            labels = labels.to(device)\n",
    "\n",
    "            # Forward pass\n",
    "            outputs = model(samples)\n",
    "            acc = (outputs.argmax(-1) == labels).cpu().numpy().mean()\n",
    "            acc_train_.append(acc)\n",
    "            \n",
    "            loss = criterion(outputs, labels)\n",
    "            loss_train_.append(loss.item())\n",
    "            # Backward and optimize\n",
    "            optimizer.zero_grad()\n",
    "            loss.backward()\n",
    "            optimizer.step()\n",
    "\n",
    "        plt.plot(epoch, loss.item(), '.', color='C0')\n",
    "\n",
    "        if (epoch+1) % (num_epochs//100) == 0:\n",
    "            with torch.no_grad():\n",
    "                for i, (samples, labels) in enumerate(test_loader):\n",
    "                    samples = samples.to(device).float()\n",
    "                    labels = labels.to(device)\n",
    "\n",
    "                    # Forward pass\n",
    "                    outputs = model(samples)\n",
    "                    acc_val = (outputs.argmax(-1) == labels).cpu().numpy().mean()\n",
    "                    acc_val_.append(acc_val)\n",
    "                    \n",
    "                    loss_val = criterion(outputs, labels)\n",
    "                    loss_val_.append(loss_val.item())\n",
    "\n",
    "#             print ('Epoch [{}/{}], Step [{}], Loss: {:.2e}, Val: {:.2e}, Accuracy: {:.2f} vs {:.2f}' \n",
    "#                    .format(epoch + 1, num_epochs, i + 1, loss.item(), loss_val.item(), acc, acc_val))\n",
    "            plt.plot(epoch, loss_val.item(), '.', color='C1')\n",
    "            pass\n",
    "\n",
    "        pass\n",
    "    plt.title('Single Fold Training')\n",
    "    \n",
    "    metrics['acc_train'].append(acc_train_)\n",
    "    metrics['acc_val'].append(acc_val_)\n",
    "    metrics['loss_train'].append(loss_train_)\n",
    "    metrics['loss_val'].append(loss_val_)\n",
    "    pass\n"
   ]
  },
  {
   "cell_type": "code",
   "execution_count": 33,
   "id": "746ea7d0-9ed7-47ae-af69-cfd048e5bf10",
   "metadata": {},
   "outputs": [
    {
     "data": {
      "application/vnd.jupyter.widget-view+json": {
       "model_id": "10df96ebd3bb4879a0fbc3a732eea525",
       "version_major": 2,
       "version_minor": 0
      },
      "text/plain": [
       "Canvas(toolbar=Toolbar(toolitems=[('Home', 'Reset original view', 'home', 'home'), ('Back', 'Back to previous …"
      ]
     },
     "metadata": {},
     "output_type": "display_data"
    }
   ],
   "source": [
    "ep_train = np.arange(num_epochs)\n",
    "ep_val = np.arange(0, num_epochs, 10)\n",
    "\n",
    "fig, axx = plt.subplots(1,2, sharex=True, figsize=(6,3))\n",
    "\n",
    "plt.sca(axx[0])\n",
    "plt.plot(ep_train, np.array(metrics['loss_train']).T, lw=1, color='C0', alpha=0.25, label='__nolegend__')\n",
    "plt.plot(ep_train, np.array(metrics['loss_train']).mean(0), lw=1, color='C0', alpha=1, label='Avg. Train loss (K=5)')\n",
    "\n",
    "plt.plot(ep_val, np.array(metrics['loss_val']).T, lw=1, color='C1', alpha=0.25, label='__nolegend__')\n",
    "plt.plot(ep_val, np.array(metrics['loss_val']).mean(0), lw=1, color='C1', alpha=1, label='Avg. CV loss (K=5)')\n",
    "plt.legend(fontsize=10)\n",
    "plt.grid(True)\n",
    "\n",
    "plt.gca().spines['right'].set_visible(False)\n",
    "plt.gca().spines['top'].set_visible(False)\n",
    "plt.xlabel('Epoch')\n",
    "\n",
    "plt.title('Cross-entropy loss')\n",
    "\n",
    "plt.sca(axx[1])\n",
    "plt.plot(ep_train, np.array(metrics['acc_train']).T, lw=1, color='C0', alpha=0.25, label='__nolegend__')\n",
    "plt.plot(ep_train, np.array(metrics['acc_train']).mean(0), lw=1, color='C0', alpha=1, label='Avg. Train\\nAccuracy (K=5)')\n",
    "\n",
    "plt.plot(ep_val, np.array(metrics['acc_val']).T, lw=1, color='C1', alpha=0.25, label='__nolegend__')\n",
    "plt.plot(ep_val, np.array(metrics['acc_val']).mean(0), lw=1, color='C1', alpha=1, label='Avg. CV\\nAccuracy (K=5)')\n",
    "plt.legend(fontsize=10)\n",
    "\n",
    "plt.title('Accuracy')\n",
    "plt.grid(True)\n",
    "plt.gca().spines['right'].set_visible(False)\n",
    "plt.gca().spines['top'].set_visible(False)\n",
    "\n",
    "plt.xlabel('Epoch')\n",
    "\n",
    "plt.tight_layout()\n",
    "\n",
    "plt.savefig(os.path.join('figures', 'individual subject training loss.pdf'))\n",
    "plt.savefig(os.path.join('figures', 'individual subject training loss.png'))"
   ]
  },
  {
   "cell_type": "markdown",
   "id": "dea9005c-cbe8-44a7-8af8-e261e4cff58b",
   "metadata": {
    "tags": []
   },
   "source": [
    "\n",
    "# Intersubject metrics"
   ]
  },
  {
   "cell_type": "markdown",
   "id": "ac556946-b92f-41fa-92f7-2db2f04bda2f",
   "metadata": {},
   "source": [
    "## Utils"
   ]
  },
  {
   "cell_type": "code",
   "execution_count": 79,
   "id": "f6d3c504-0d7b-4e1d-8b82-1c0b1d2cc861",
   "metadata": {},
   "outputs": [],
   "source": [
    "def mat2raw(mat):\n",
    "    print('Creating raw')\n",
    "    raw = mne.io.RawArray(np.concatenate([mat['export_EMG'], \n",
    "                mat['export_X'], \n",
    "                mat['export_Y'], \n",
    "                mat['export_OnPaper'], \n",
    "                mat['export_Type'], \n",
    "                mat['export_Trial']], axis=-1).T,\n",
    "               mne.create_info(['emg%i'%i for i in range(8)] + ['X', 'Y', 'OnPaper', 'Type', 'Trial'], \n",
    "                               sfreq=1000,\n",
    "                               ch_types=['emg']*8+['misc']*2+['stim']*3),\n",
    "                         verbose=0)\n",
    "\n",
    "    raw.apply_hilbert(picks='emg', envelope=True)\n",
    "    raw.filter(0, 5, picks=['emg', 'misc']);\n",
    "    raw.resample(10);\n",
    "    return raw"
   ]
  },
  {
   "cell_type": "code",
   "execution_count": 98,
   "id": "4b4c8229-85fc-403d-8115-237bfa6b4a32",
   "metadata": {},
   "outputs": [],
   "source": [
    "def centerOnPaper(raw):\n",
    "    print('Centering OnPaper events')\n",
    "    events = mne.find_events(raw, stim_channel='Trial', verbose=0)\n",
    "    epochs = mne.Epochs(raw, events=events, tmin=0, tmax=5, preload=False, picks='all', baseline=None)\n",
    "    epochs.events[:,-1] = np.median(epochs.get_data(picks=['Type']), -1).reshape(-1).astype(int)\n",
    "\n",
    "    df_events = pd.DataFrame(epochs.events, columns=['ts', 'idx', 'code'])\n",
    "    print(df_events.shape)\n",
    "\n",
    "    s_shifts = pd.DataFrame(np.where(np.diff(epochs.get_data(picks=['OnPaper'])[:,0,:], axis=-1)>0.5)).T.groupby(0)[1].min()\n",
    "    s_shifts.name = 'shift'\n",
    "\n",
    "    df_events = pd.merge(df_events, s_shifts, left_index=True, right_index=True)\n",
    "\n",
    "    df_events.ts += df_events['shift']\n",
    "\n",
    "    on_paper_events = df_events.iloc[:, :3]\n",
    "\n",
    "    print(df_events.shape)\n",
    "    return on_paper_events"
   ]
  },
  {
   "cell_type": "markdown",
   "id": "120a9594-ac8a-49f0-89a1-1f0ee9ca6f88",
   "metadata": {},
   "source": [
    "## Dataset class"
   ]
  },
  {
   "cell_type": "code",
   "execution_count": 99,
   "id": "62803268-f50f-48b7-b2b0-17997554415c",
   "metadata": {},
   "outputs": [],
   "source": [
    "import torch\n",
    "from torch.utils.data import Dataset, DataLoader\n",
    "\n",
    "class GestureDataset(Dataset):\n",
    "    def __init__(self, X, y, transform=None):\n",
    "        self.X = X\n",
    "        self.y = y\n",
    "        self.transform = transform\n",
    "        \n",
    "    def __len__(self):\n",
    "        return(len(self.X))\n",
    "        \n",
    "    def __getitem__(self, idx):\n",
    "        sample = np.swapaxes(self.X[idx][..., np.newaxis, :, :], -1, -2)\n",
    "        label  = self.y[idx]\n",
    "        if self.transform:\n",
    "            sample = self.transform(sample).double()\n",
    "        return sample, label\n",
    "        "
   ]
  },
  {
   "cell_type": "markdown",
   "id": "8d715d13-9212-47ff-bdb7-41a315e76747",
   "metadata": {},
   "source": [
    "## Model class"
   ]
  },
  {
   "cell_type": "code",
   "execution_count": 100,
   "id": "28531718-7a48-4c48-a0b1-428c29904bea",
   "metadata": {},
   "outputs": [
    {
     "name": "stdout",
     "output_type": "stream",
     "text": [
      "RNN(\n",
      "  (cnn1): Conv2d(1, 32, kernel_size=(1, 8), stride=(1, 1))\n",
      "  (do1): Dropout2d(p=0.5, inplace=False)\n",
      "  (relu1): ReLU()\n",
      "  (lstm2): LSTM(32, 32, num_layers=2, batch_first=True, dropout=0.5)\n",
      "  (fc): Linear(in_features=32, out_features=10, bias=True)\n",
      ")\n"
     ]
    }
   ],
   "source": [
    "from torch import functional as F\n",
    "from torch import nn\n",
    "sequence_length = len(epochs.times)\n",
    "input_size  = 8\n",
    "num_filters = 32\n",
    "hidden_size = 32\n",
    "num_layers  = 2\n",
    "num_classes = 10\n",
    "device='cuda'\n",
    "\n",
    "class RNN(nn.Module):\n",
    "    \n",
    "    def __init__(self, input_size, num_filters, hidden_size, num_layers, num_classes):\n",
    "        super(RNN, self).__init__()\n",
    "        self.hidden_size = hidden_size\n",
    "        self.num_layers = num_layers\n",
    "        self.num_filters = num_filters\n",
    "        \n",
    "        self.cnn1 = nn.Conv2d(in_channels=1, \n",
    "                              out_channels=num_filters, \n",
    "                              kernel_size=(1, input_size), \n",
    "                              stride=1, \n",
    "                              padding=0)\n",
    "        \n",
    "        self.do1 = nn.Dropout2d(p=0.5)\n",
    "        \n",
    "        self.relu1 = nn.ReLU()\n",
    "        \n",
    "        self.lstm2 = nn.LSTM(num_filters, hidden_size, num_layers, batch_first=True, dropout=0.5)\n",
    "\n",
    "#         self.relu2 = nn.ReLU()\n",
    "        self.fc = nn.Linear(hidden_size, num_classes)\n",
    "        pass\n",
    "    \n",
    "    def forward(self, x):\n",
    "        # Set initial hidden and cell states \n",
    "        h0 = torch.zeros(self.num_layers, x.size(0), self.hidden_size).to(device) \n",
    "        c0 = torch.zeros(self.num_layers, x.size(0), self.hidden_size).to(device)\n",
    "        # Passing in the input and hidden state into the model and  obtaining outputs\n",
    "        \n",
    "        out = self.relu1(self.do1(self.cnn1(x)))\n",
    "        out = torch.transpose(out, 1, 2)[..., 0]\n",
    "        \n",
    "        out, hidden = self.lstm2(out, (h0, c0))  # out: tensor of shape (batch_size, seq_length, hidden_size)\n",
    "#         out = self.relu2(out)\n",
    "        \n",
    "        #Reshaping the outputs such that it can be fit into the fully connected layer\n",
    "        out = self.fc(out[:, -1, :]) # taking the last one in the sequence\n",
    "        return out\n",
    "       \n",
    "        pass\n",
    "pass\n",
    "model = RNN(input_size, num_filters, hidden_size, num_layers, num_classes).to(device)\n",
    "print(model)"
   ]
  },
  {
   "cell_type": "markdown",
   "id": "5d59aaba-53af-4527-91b1-469f4c5cfe5c",
   "metadata": {},
   "source": [
    "## Run"
   ]
  },
  {
   "cell_type": "code",
   "execution_count": 103,
   "id": "f7de3c77-43fe-4776-92f8-e5b0f67b238a",
   "metadata": {
    "collapsed": true,
    "jupyter": {
     "outputs_hidden": true
    },
    "tags": []
   },
   "outputs": [
    {
     "data": {
      "application/vnd.jupyter.widget-view+json": {
       "model_id": "65846ecfbe9449de83738ef009b93502",
       "version_major": 2,
       "version_minor": 0
      },
      "text/plain": [
       "  0%|          | 0/11 [00:00<?, ?it/s]"
      ]
     },
     "metadata": {},
     "output_type": "display_data"
    },
    {
     "name": "stdout",
     "output_type": "stream",
     "text": [
      "Loading export1_13Nov07.mat\n",
      "Centering OnPaper events\n",
      "Not setting metadata\n",
      "Not setting metadata\n",
      "498 matching events found\n",
      "No baseline correction applied\n",
      "0 projection items activated\n",
      "Loading data for 498 events and 51 original time points ...\n",
      "0 bad epochs dropped\n",
      "(498, 3)\n",
      "Loading data for 498 events and 51 original time points ...\n",
      "(496, 4)\n",
      "(396,) (100,)\n"
     ]
    },
    {
     "data": {
      "application/vnd.jupyter.widget-view+json": {
       "model_id": "5411b53523c740fca34ebb53b340a834",
       "version_major": 2,
       "version_minor": 0
      },
      "text/plain": [
       "  0%|          | 0/1000 [00:00<?, ?it/s]"
      ]
     },
     "metadata": {},
     "output_type": "display_data"
    },
    {
     "name": "stdout",
     "output_type": "stream",
     "text": [
      "(397,) (99,)\n"
     ]
    },
    {
     "data": {
      "application/vnd.jupyter.widget-view+json": {
       "model_id": "6059c60d23b147199c5fcc41af6fd552",
       "version_major": 2,
       "version_minor": 0
      },
      "text/plain": [
       "  0%|          | 0/1000 [00:00<?, ?it/s]"
      ]
     },
     "metadata": {},
     "output_type": "display_data"
    },
    {
     "name": "stdout",
     "output_type": "stream",
     "text": [
      "(397,) (99,)\n"
     ]
    },
    {
     "data": {
      "application/vnd.jupyter.widget-view+json": {
       "model_id": "5c0e2a106f674427b34248d8434a61f6",
       "version_major": 2,
       "version_minor": 0
      },
      "text/plain": [
       "  0%|          | 0/1000 [00:00<?, ?it/s]"
      ]
     },
     "metadata": {},
     "output_type": "display_data"
    },
    {
     "name": "stdout",
     "output_type": "stream",
     "text": [
      "(397,) (99,)\n"
     ]
    },
    {
     "data": {
      "application/vnd.jupyter.widget-view+json": {
       "model_id": "791258e62e69440ea1b5182a464beff6",
       "version_major": 2,
       "version_minor": 0
      },
      "text/plain": [
       "  0%|          | 0/1000 [00:00<?, ?it/s]"
      ]
     },
     "metadata": {},
     "output_type": "display_data"
    },
    {
     "name": "stdout",
     "output_type": "stream",
     "text": [
      "(397,) (99,)\n"
     ]
    },
    {
     "data": {
      "application/vnd.jupyter.widget-view+json": {
       "model_id": "75e6cdb641e5455ea8a947e5d030337f",
       "version_major": 2,
       "version_minor": 0
      },
      "text/plain": [
       "  0%|          | 0/1000 [00:00<?, ?it/s]"
      ]
     },
     "metadata": {},
     "output_type": "display_data"
    },
    {
     "name": "stdout",
     "output_type": "stream",
     "text": [
      "Loading export1_15Jan08.mat\n",
      "Centering OnPaper events\n",
      "Not setting metadata\n",
      "Not setting metadata\n",
      "549 matching events found\n",
      "No baseline correction applied\n",
      "0 projection items activated\n",
      "Loading data for 549 events and 51 original time points ...\n",
      "0 bad epochs dropped\n",
      "(549, 3)\n",
      "Loading data for 549 events and 51 original time points ...\n"
     ]
    },
    {
     "name": "stderr",
     "output_type": "stream",
     "text": [
      "/tmp/ipykernel_1240632/550338820.py:15: RuntimeWarning: Resampling of the stim channels caused event information to become unreliable. Consider finding events on the original data and passing the event matrix as a parameter.\n",
      "  raw.resample(10);\n"
     ]
    },
    {
     "name": "stdout",
     "output_type": "stream",
     "text": [
      "(545, 4)\n",
      "(436,) (109,)\n"
     ]
    },
    {
     "data": {
      "application/vnd.jupyter.widget-view+json": {
       "model_id": "3cb5a93c9cef40038bd7c67f20da8928",
       "version_major": 2,
       "version_minor": 0
      },
      "text/plain": [
       "  0%|          | 0/1000 [00:00<?, ?it/s]"
      ]
     },
     "metadata": {},
     "output_type": "display_data"
    },
    {
     "name": "stdout",
     "output_type": "stream",
     "text": [
      "(436,) (109,)\n"
     ]
    },
    {
     "data": {
      "application/vnd.jupyter.widget-view+json": {
       "model_id": "6c3e9bc307454c6d9cae2006e835ab14",
       "version_major": 2,
       "version_minor": 0
      },
      "text/plain": [
       "  0%|          | 0/1000 [00:00<?, ?it/s]"
      ]
     },
     "metadata": {},
     "output_type": "display_data"
    },
    {
     "name": "stdout",
     "output_type": "stream",
     "text": [
      "(436,) (109,)\n"
     ]
    },
    {
     "data": {
      "application/vnd.jupyter.widget-view+json": {
       "model_id": "17a4664c82b746eda82959cb2f07cba2",
       "version_major": 2,
       "version_minor": 0
      },
      "text/plain": [
       "  0%|          | 0/1000 [00:00<?, ?it/s]"
      ]
     },
     "metadata": {},
     "output_type": "display_data"
    },
    {
     "name": "stdout",
     "output_type": "stream",
     "text": [
      "(436,) (109,)\n"
     ]
    },
    {
     "data": {
      "application/vnd.jupyter.widget-view+json": {
       "model_id": "32cd6fa021214c668724b902e07c2f6d",
       "version_major": 2,
       "version_minor": 0
      },
      "text/plain": [
       "  0%|          | 0/1000 [00:00<?, ?it/s]"
      ]
     },
     "metadata": {},
     "output_type": "display_data"
    },
    {
     "name": "stdout",
     "output_type": "stream",
     "text": [
      "(436,) (109,)\n"
     ]
    },
    {
     "data": {
      "application/vnd.jupyter.widget-view+json": {
       "model_id": "45b30d7985974a1aa2f834fba027517e",
       "version_major": 2,
       "version_minor": 0
      },
      "text/plain": [
       "  0%|          | 0/1000 [00:00<?, ?it/s]"
      ]
     },
     "metadata": {},
     "output_type": "display_data"
    },
    {
     "name": "stdout",
     "output_type": "stream",
     "text": [
      "Loading export1_15Nov07.mat\n",
      "Centering OnPaper events\n",
      "Not setting metadata\n",
      "Not setting metadata\n",
      "449 matching events found\n",
      "No baseline correction applied\n",
      "0 projection items activated\n",
      "Loading data for 449 events and 51 original time points ...\n",
      "0 bad epochs dropped\n",
      "(449, 3)\n",
      "Loading data for 449 events and 51 original time points ...\n"
     ]
    },
    {
     "name": "stderr",
     "output_type": "stream",
     "text": [
      "/tmp/ipykernel_1240632/550338820.py:15: RuntimeWarning: Resampling of the stim channels caused event information to become unreliable. Consider finding events on the original data and passing the event matrix as a parameter.\n",
      "  raw.resample(10);\n"
     ]
    },
    {
     "name": "stdout",
     "output_type": "stream",
     "text": [
      "(441, 4)\n",
      "(352,) (89,)\n"
     ]
    },
    {
     "data": {
      "application/vnd.jupyter.widget-view+json": {
       "model_id": "79632968df1042d0a4c4d4f3edb5696d",
       "version_major": 2,
       "version_minor": 0
      },
      "text/plain": [
       "  0%|          | 0/1000 [00:00<?, ?it/s]"
      ]
     },
     "metadata": {},
     "output_type": "display_data"
    },
    {
     "name": "stdout",
     "output_type": "stream",
     "text": [
      "(353,) (88,)\n"
     ]
    },
    {
     "data": {
      "application/vnd.jupyter.widget-view+json": {
       "model_id": "e67e960ca52a43859e86fcd9a04fbe5a",
       "version_major": 2,
       "version_minor": 0
      },
      "text/plain": [
       "  0%|          | 0/1000 [00:00<?, ?it/s]"
      ]
     },
     "metadata": {},
     "output_type": "display_data"
    },
    {
     "name": "stdout",
     "output_type": "stream",
     "text": [
      "(353,) (88,)\n"
     ]
    },
    {
     "data": {
      "application/vnd.jupyter.widget-view+json": {
       "model_id": "7affe8a054d840d498f9112ae85f0bf0",
       "version_major": 2,
       "version_minor": 0
      },
      "text/plain": [
       "  0%|          | 0/1000 [00:00<?, ?it/s]"
      ]
     },
     "metadata": {},
     "output_type": "display_data"
    },
    {
     "name": "stdout",
     "output_type": "stream",
     "text": [
      "(353,) (88,)\n"
     ]
    },
    {
     "data": {
      "application/vnd.jupyter.widget-view+json": {
       "model_id": "64317ce856b747aca4376588c8876ba8",
       "version_major": 2,
       "version_minor": 0
      },
      "text/plain": [
       "  0%|          | 0/1000 [00:00<?, ?it/s]"
      ]
     },
     "metadata": {},
     "output_type": "display_data"
    },
    {
     "name": "stdout",
     "output_type": "stream",
     "text": [
      "(353,) (88,)\n"
     ]
    },
    {
     "data": {
      "application/vnd.jupyter.widget-view+json": {
       "model_id": "26aa2a4031c34ac8968ecfed418f8b98",
       "version_major": 2,
       "version_minor": 0
      },
      "text/plain": [
       "  0%|          | 0/1000 [00:00<?, ?it/s]"
      ]
     },
     "metadata": {},
     "output_type": "display_data"
    },
    {
     "name": "stdout",
     "output_type": "stream",
     "text": [
      "Loading export1_19Dec07.mat\n",
      "Centering OnPaper events\n",
      "Not setting metadata\n",
      "Not setting metadata\n",
      "476 matching events found\n",
      "No baseline correction applied\n",
      "0 projection items activated\n",
      "Loading data for 476 events and 51 original time points ...\n",
      "0 bad epochs dropped\n",
      "(476, 3)\n",
      "Loading data for 476 events and 51 original time points ...\n",
      "(470, 4)\n",
      "(376,) (94,)\n"
     ]
    },
    {
     "data": {
      "application/vnd.jupyter.widget-view+json": {
       "model_id": "b830143169aa4deda8ededdf3ca8f52c",
       "version_major": 2,
       "version_minor": 0
      },
      "text/plain": [
       "  0%|          | 0/1000 [00:00<?, ?it/s]"
      ]
     },
     "metadata": {},
     "output_type": "display_data"
    },
    {
     "name": "stdout",
     "output_type": "stream",
     "text": [
      "(376,) (94,)\n"
     ]
    },
    {
     "data": {
      "application/vnd.jupyter.widget-view+json": {
       "model_id": "f04870ed77824741b13f7f665d9fe9b0",
       "version_major": 2,
       "version_minor": 0
      },
      "text/plain": [
       "  0%|          | 0/1000 [00:00<?, ?it/s]"
      ]
     },
     "metadata": {},
     "output_type": "display_data"
    },
    {
     "name": "stdout",
     "output_type": "stream",
     "text": [
      "(376,) (94,)\n"
     ]
    },
    {
     "data": {
      "application/vnd.jupyter.widget-view+json": {
       "model_id": "197064e7e0cb4b46a57bfc2d151e0c31",
       "version_major": 2,
       "version_minor": 0
      },
      "text/plain": [
       "  0%|          | 0/1000 [00:00<?, ?it/s]"
      ]
     },
     "metadata": {},
     "output_type": "display_data"
    },
    {
     "name": "stdout",
     "output_type": "stream",
     "text": [
      "(376,) (94,)\n"
     ]
    },
    {
     "data": {
      "application/vnd.jupyter.widget-view+json": {
       "model_id": "b58c8d2b5c844a12ad0fb1fcf739a320",
       "version_major": 2,
       "version_minor": 0
      },
      "text/plain": [
       "  0%|          | 0/1000 [00:00<?, ?it/s]"
      ]
     },
     "metadata": {},
     "output_type": "display_data"
    },
    {
     "name": "stdout",
     "output_type": "stream",
     "text": [
      "(376,) (94,)\n"
     ]
    },
    {
     "data": {
      "application/vnd.jupyter.widget-view+json": {
       "model_id": "84f0b355921d40c8b65e43b703069a6f",
       "version_major": 2,
       "version_minor": 0
      },
      "text/plain": [
       "  0%|          | 0/1000 [00:00<?, ?it/s]"
      ]
     },
     "metadata": {},
     "output_type": "display_data"
    },
    {
     "name": "stdout",
     "output_type": "stream",
     "text": [
      "Loading export1_20Dec07.mat\n",
      "Centering OnPaper events\n",
      "Not setting metadata\n",
      "Not setting metadata\n",
      "490 matching events found\n",
      "No baseline correction applied\n",
      "0 projection items activated\n",
      "Loading data for 490 events and 51 original time points ...\n",
      "0 bad epochs dropped\n",
      "(490, 3)\n",
      "Loading data for 490 events and 51 original time points ...\n"
     ]
    },
    {
     "name": "stderr",
     "output_type": "stream",
     "text": [
      "/tmp/ipykernel_1240632/550338820.py:15: RuntimeWarning: Resampling of the stim channels caused event information to become unreliable. Consider finding events on the original data and passing the event matrix as a parameter.\n",
      "  raw.resample(10);\n"
     ]
    },
    {
     "name": "stdout",
     "output_type": "stream",
     "text": [
      "(488, 4)\n",
      "(390,) (98,)\n"
     ]
    },
    {
     "data": {
      "application/vnd.jupyter.widget-view+json": {
       "model_id": "fc36927964a743cbbc592c06ecb42850",
       "version_major": 2,
       "version_minor": 0
      },
      "text/plain": [
       "  0%|          | 0/1000 [00:00<?, ?it/s]"
      ]
     },
     "metadata": {},
     "output_type": "display_data"
    },
    {
     "name": "stdout",
     "output_type": "stream",
     "text": [
      "(390,) (98,)\n"
     ]
    },
    {
     "data": {
      "application/vnd.jupyter.widget-view+json": {
       "model_id": "bd9311519e61493aa57a47bceafd47fb",
       "version_major": 2,
       "version_minor": 0
      },
      "text/plain": [
       "  0%|          | 0/1000 [00:00<?, ?it/s]"
      ]
     },
     "metadata": {},
     "output_type": "display_data"
    },
    {
     "name": "stdout",
     "output_type": "stream",
     "text": [
      "(390,) (98,)\n"
     ]
    },
    {
     "data": {
      "application/vnd.jupyter.widget-view+json": {
       "model_id": "be13deeb24c54aef96aaf1dada1ff6af",
       "version_major": 2,
       "version_minor": 0
      },
      "text/plain": [
       "  0%|          | 0/1000 [00:00<?, ?it/s]"
      ]
     },
     "metadata": {},
     "output_type": "display_data"
    },
    {
     "name": "stdout",
     "output_type": "stream",
     "text": [
      "(391,) (97,)\n"
     ]
    },
    {
     "data": {
      "application/vnd.jupyter.widget-view+json": {
       "model_id": "f369067e56cf4358a07f858f18d10c4d",
       "version_major": 2,
       "version_minor": 0
      },
      "text/plain": [
       "  0%|          | 0/1000 [00:00<?, ?it/s]"
      ]
     },
     "metadata": {},
     "output_type": "display_data"
    },
    {
     "name": "stdout",
     "output_type": "stream",
     "text": [
      "(391,) (97,)\n"
     ]
    },
    {
     "data": {
      "application/vnd.jupyter.widget-view+json": {
       "model_id": "23cdc897dcee42d89addd46cbec27376",
       "version_major": 2,
       "version_minor": 0
      },
      "text/plain": [
       "  0%|          | 0/1000 [00:00<?, ?it/s]"
      ]
     },
     "metadata": {},
     "output_type": "display_data"
    },
    {
     "name": "stdout",
     "output_type": "stream",
     "text": [
      "Loading export1_21Dec07.mat\n",
      "Centering OnPaper events\n",
      "Not setting metadata\n",
      "Not setting metadata\n",
      "491 matching events found\n",
      "No baseline correction applied\n",
      "0 projection items activated\n",
      "Loading data for 491 events and 51 original time points ...\n",
      "0 bad epochs dropped\n",
      "(491, 3)\n",
      "Loading data for 491 events and 51 original time points ...\n"
     ]
    },
    {
     "name": "stderr",
     "output_type": "stream",
     "text": [
      "/tmp/ipykernel_1240632/550338820.py:15: RuntimeWarning: Resampling of the stim channels caused event information to become unreliable. Consider finding events on the original data and passing the event matrix as a parameter.\n",
      "  raw.resample(10);\n"
     ]
    },
    {
     "name": "stdout",
     "output_type": "stream",
     "text": [
      "(488, 4)\n",
      "(390,) (98,)\n"
     ]
    },
    {
     "data": {
      "application/vnd.jupyter.widget-view+json": {
       "model_id": "7f9516f3acdf426691c76ec309c97fe0",
       "version_major": 2,
       "version_minor": 0
      },
      "text/plain": [
       "  0%|          | 0/1000 [00:00<?, ?it/s]"
      ]
     },
     "metadata": {},
     "output_type": "display_data"
    },
    {
     "name": "stdout",
     "output_type": "stream",
     "text": [
      "(390,) (98,)\n"
     ]
    },
    {
     "data": {
      "application/vnd.jupyter.widget-view+json": {
       "model_id": "6622490f7d074773af31ef210ba1b9e6",
       "version_major": 2,
       "version_minor": 0
      },
      "text/plain": [
       "  0%|          | 0/1000 [00:00<?, ?it/s]"
      ]
     },
     "metadata": {},
     "output_type": "display_data"
    },
    {
     "name": "stdout",
     "output_type": "stream",
     "text": [
      "(390,) (98,)\n"
     ]
    },
    {
     "data": {
      "application/vnd.jupyter.widget-view+json": {
       "model_id": "03d7fe3682b147be8277b6b57a1efd0a",
       "version_major": 2,
       "version_minor": 0
      },
      "text/plain": [
       "  0%|          | 0/1000 [00:00<?, ?it/s]"
      ]
     },
     "metadata": {},
     "output_type": "display_data"
    },
    {
     "name": "stdout",
     "output_type": "stream",
     "text": [
      "(391,) (97,)\n"
     ]
    },
    {
     "data": {
      "application/vnd.jupyter.widget-view+json": {
       "model_id": "d7bb7ec80b92499783be6de0e37ad70d",
       "version_major": 2,
       "version_minor": 0
      },
      "text/plain": [
       "  0%|          | 0/1000 [00:00<?, ?it/s]"
      ]
     },
     "metadata": {},
     "output_type": "display_data"
    },
    {
     "name": "stdout",
     "output_type": "stream",
     "text": [
      "(391,) (97,)\n"
     ]
    },
    {
     "data": {
      "application/vnd.jupyter.widget-view+json": {
       "model_id": "3ee12695ee7e486f8f838630bdcc65d4",
       "version_major": 2,
       "version_minor": 0
      },
      "text/plain": [
       "  0%|          | 0/1000 [00:00<?, ?it/s]"
      ]
     },
     "metadata": {},
     "output_type": "display_data"
    },
    {
     "name": "stdout",
     "output_type": "stream",
     "text": [
      "Loading export1_24Jan08.mat\n",
      "Centering OnPaper events\n",
      "Not setting metadata\n",
      "Not setting metadata\n",
      "554 matching events found\n",
      "No baseline correction applied\n",
      "0 projection items activated\n",
      "Loading data for 554 events and 51 original time points ...\n",
      "0 bad epochs dropped\n",
      "(554, 3)\n",
      "Loading data for 554 events and 51 original time points ...\n",
      "(552, 4)\n",
      "(441,) (111,)\n"
     ]
    },
    {
     "data": {
      "application/vnd.jupyter.widget-view+json": {
       "model_id": "a5b9e7db726d42d09c91626b000f0a21",
       "version_major": 2,
       "version_minor": 0
      },
      "text/plain": [
       "  0%|          | 0/1000 [00:00<?, ?it/s]"
      ]
     },
     "metadata": {},
     "output_type": "display_data"
    },
    {
     "name": "stdout",
     "output_type": "stream",
     "text": [
      "(441,) (111,)\n"
     ]
    },
    {
     "data": {
      "application/vnd.jupyter.widget-view+json": {
       "model_id": "f8ed2fe89c1d41c3b368ab96d2524307",
       "version_major": 2,
       "version_minor": 0
      },
      "text/plain": [
       "  0%|          | 0/1000 [00:00<?, ?it/s]"
      ]
     },
     "metadata": {},
     "output_type": "display_data"
    },
    {
     "name": "stdout",
     "output_type": "stream",
     "text": [
      "(442,) (110,)\n"
     ]
    },
    {
     "data": {
      "application/vnd.jupyter.widget-view+json": {
       "model_id": "2eaa30917c444134bfff8f5acebc2baa",
       "version_major": 2,
       "version_minor": 0
      },
      "text/plain": [
       "  0%|          | 0/1000 [00:00<?, ?it/s]"
      ]
     },
     "metadata": {},
     "output_type": "display_data"
    },
    {
     "name": "stdout",
     "output_type": "stream",
     "text": [
      "(442,) (110,)\n"
     ]
    },
    {
     "data": {
      "application/vnd.jupyter.widget-view+json": {
       "model_id": "ef7e8f250958467592b07433df9f2475",
       "version_major": 2,
       "version_minor": 0
      },
      "text/plain": [
       "  0%|          | 0/1000 [00:00<?, ?it/s]"
      ]
     },
     "metadata": {},
     "output_type": "display_data"
    },
    {
     "name": "stdout",
     "output_type": "stream",
     "text": [
      "(442,) (110,)\n"
     ]
    },
    {
     "data": {
      "application/vnd.jupyter.widget-view+json": {
       "model_id": "293131823ece4bc2a2da7eaccf4fa4f4",
       "version_major": 2,
       "version_minor": 0
      },
      "text/plain": [
       "  0%|          | 0/1000 [00:00<?, ?it/s]"
      ]
     },
     "metadata": {},
     "output_type": "display_data"
    },
    {
     "name": "stdout",
     "output_type": "stream",
     "text": [
      "Loading export1_2Jan08.mat\n",
      "Centering OnPaper events\n",
      "Not setting metadata\n",
      "Not setting metadata\n",
      "490 matching events found\n",
      "No baseline correction applied\n",
      "0 projection items activated\n",
      "Loading data for 490 events and 51 original time points ...\n",
      "0 bad epochs dropped\n",
      "(490, 3)\n",
      "Loading data for 490 events and 51 original time points ...\n",
      "(489, 4)\n",
      "(391,) (98,)\n"
     ]
    },
    {
     "data": {
      "application/vnd.jupyter.widget-view+json": {
       "model_id": "dea6720e78be4428b26777dbfd13e6e0",
       "version_major": 2,
       "version_minor": 0
      },
      "text/plain": [
       "  0%|          | 0/1000 [00:00<?, ?it/s]"
      ]
     },
     "metadata": {},
     "output_type": "display_data"
    },
    {
     "name": "stdout",
     "output_type": "stream",
     "text": [
      "(391,) (98,)\n"
     ]
    },
    {
     "data": {
      "application/vnd.jupyter.widget-view+json": {
       "model_id": "1a79d4b35617440fbdb72549ca90929a",
       "version_major": 2,
       "version_minor": 0
      },
      "text/plain": [
       "  0%|          | 0/1000 [00:00<?, ?it/s]"
      ]
     },
     "metadata": {},
     "output_type": "display_data"
    },
    {
     "name": "stdout",
     "output_type": "stream",
     "text": [
      "(391,) (98,)\n"
     ]
    },
    {
     "data": {
      "application/vnd.jupyter.widget-view+json": {
       "model_id": "0ca5bc51289540e1a55e7c07e0a3fee6",
       "version_major": 2,
       "version_minor": 0
      },
      "text/plain": [
       "  0%|          | 0/1000 [00:00<?, ?it/s]"
      ]
     },
     "metadata": {},
     "output_type": "display_data"
    },
    {
     "name": "stdout",
     "output_type": "stream",
     "text": [
      "(391,) (98,)\n"
     ]
    },
    {
     "data": {
      "application/vnd.jupyter.widget-view+json": {
       "model_id": "77bdc25711054a779f65542f522f4483",
       "version_major": 2,
       "version_minor": 0
      },
      "text/plain": [
       "  0%|          | 0/1000 [00:00<?, ?it/s]"
      ]
     },
     "metadata": {},
     "output_type": "display_data"
    },
    {
     "name": "stdout",
     "output_type": "stream",
     "text": [
      "(392,) (97,)\n"
     ]
    },
    {
     "data": {
      "application/vnd.jupyter.widget-view+json": {
       "model_id": "52ed64f5fab64fecb1cd223a8a2e1d0e",
       "version_major": 2,
       "version_minor": 0
      },
      "text/plain": [
       "  0%|          | 0/1000 [00:00<?, ?it/s]"
      ]
     },
     "metadata": {},
     "output_type": "display_data"
    },
    {
     "name": "stdout",
     "output_type": "stream",
     "text": [
      "Loading export1_30Nov07.mat\n",
      "Centering OnPaper events\n",
      "Not setting metadata\n",
      "Not setting metadata\n",
      "468 matching events found\n",
      "No baseline correction applied\n",
      "0 projection items activated\n",
      "Loading data for 468 events and 51 original time points ...\n",
      "0 bad epochs dropped\n",
      "(468, 3)\n",
      "Loading data for 468 events and 51 original time points ...\n"
     ]
    },
    {
     "name": "stderr",
     "output_type": "stream",
     "text": [
      "/tmp/ipykernel_1240632/550338820.py:15: RuntimeWarning: Resampling of the stim channels caused event information to become unreliable. Consider finding events on the original data and passing the event matrix as a parameter.\n",
      "  raw.resample(10);\n"
     ]
    },
    {
     "name": "stdout",
     "output_type": "stream",
     "text": [
      "(467, 4)\n",
      "(372,) (94,)\n"
     ]
    },
    {
     "data": {
      "application/vnd.jupyter.widget-view+json": {
       "model_id": "4ea68effc102455aa13eb407ea9d62c1",
       "version_major": 2,
       "version_minor": 0
      },
      "text/plain": [
       "  0%|          | 0/1000 [00:00<?, ?it/s]"
      ]
     },
     "metadata": {},
     "output_type": "display_data"
    },
    {
     "name": "stdout",
     "output_type": "stream",
     "text": [
      "(373,) (93,)\n"
     ]
    },
    {
     "data": {
      "application/vnd.jupyter.widget-view+json": {
       "model_id": "87bc06e2f9594a3da094c012b1e833d1",
       "version_major": 2,
       "version_minor": 0
      },
      "text/plain": [
       "  0%|          | 0/1000 [00:00<?, ?it/s]"
      ]
     },
     "metadata": {},
     "output_type": "display_data"
    },
    {
     "name": "stdout",
     "output_type": "stream",
     "text": [
      "(373,) (93,)\n"
     ]
    },
    {
     "data": {
      "application/vnd.jupyter.widget-view+json": {
       "model_id": "9e372463576c4859bb14259daa9e0021",
       "version_major": 2,
       "version_minor": 0
      },
      "text/plain": [
       "  0%|          | 0/1000 [00:00<?, ?it/s]"
      ]
     },
     "metadata": {},
     "output_type": "display_data"
    },
    {
     "name": "stdout",
     "output_type": "stream",
     "text": [
      "(373,) (93,)\n"
     ]
    },
    {
     "data": {
      "application/vnd.jupyter.widget-view+json": {
       "model_id": "ad5da908948a4fa79e6a1af158548224",
       "version_major": 2,
       "version_minor": 0
      },
      "text/plain": [
       "  0%|          | 0/1000 [00:00<?, ?it/s]"
      ]
     },
     "metadata": {},
     "output_type": "display_data"
    },
    {
     "name": "stdout",
     "output_type": "stream",
     "text": [
      "(373,) (93,)\n"
     ]
    },
    {
     "data": {
      "application/vnd.jupyter.widget-view+json": {
       "model_id": "d7dd43d73ddb410cb7bb8136933f0ae8",
       "version_major": 2,
       "version_minor": 0
      },
      "text/plain": [
       "  0%|          | 0/1000 [00:00<?, ?it/s]"
      ]
     },
     "metadata": {},
     "output_type": "display_data"
    },
    {
     "name": "stdout",
     "output_type": "stream",
     "text": [
      "Loading export1_3Jan08.mat\n",
      "Centering OnPaper events\n",
      "Not setting metadata\n",
      "Not setting metadata\n",
      "517 matching events found\n",
      "No baseline correction applied\n",
      "0 projection items activated\n",
      "Loading data for 517 events and 51 original time points ...\n",
      "0 bad epochs dropped\n",
      "(517, 3)\n",
      "Loading data for 517 events and 51 original time points ...\n"
     ]
    },
    {
     "name": "stderr",
     "output_type": "stream",
     "text": [
      "/tmp/ipykernel_1240632/550338820.py:15: RuntimeWarning: Resampling of the stim channels caused event information to become unreliable. Consider finding events on the original data and passing the event matrix as a parameter.\n",
      "  raw.resample(10);\n"
     ]
    },
    {
     "name": "stdout",
     "output_type": "stream",
     "text": [
      "(511, 4)\n",
      "(408,) (103,)\n"
     ]
    },
    {
     "data": {
      "application/vnd.jupyter.widget-view+json": {
       "model_id": "b37267ecc997409f9e49cf46c4825270",
       "version_major": 2,
       "version_minor": 0
      },
      "text/plain": [
       "  0%|          | 0/1000 [00:00<?, ?it/s]"
      ]
     },
     "metadata": {},
     "output_type": "display_data"
    },
    {
     "name": "stdout",
     "output_type": "stream",
     "text": [
      "(409,) (102,)\n"
     ]
    },
    {
     "data": {
      "application/vnd.jupyter.widget-view+json": {
       "model_id": "16ae5a38ffea4cf9904a26171dd14688",
       "version_major": 2,
       "version_minor": 0
      },
      "text/plain": [
       "  0%|          | 0/1000 [00:00<?, ?it/s]"
      ]
     },
     "metadata": {},
     "output_type": "display_data"
    },
    {
     "name": "stdout",
     "output_type": "stream",
     "text": [
      "(409,) (102,)\n"
     ]
    },
    {
     "data": {
      "application/vnd.jupyter.widget-view+json": {
       "model_id": "056c6fa8c5854556abcd134f96f1e80e",
       "version_major": 2,
       "version_minor": 0
      },
      "text/plain": [
       "  0%|          | 0/1000 [00:00<?, ?it/s]"
      ]
     },
     "metadata": {},
     "output_type": "display_data"
    },
    {
     "name": "stdout",
     "output_type": "stream",
     "text": [
      "(409,) (102,)\n"
     ]
    },
    {
     "data": {
      "application/vnd.jupyter.widget-view+json": {
       "model_id": "91a3e5519b17449d9493d981c00fdd79",
       "version_major": 2,
       "version_minor": 0
      },
      "text/plain": [
       "  0%|          | 0/1000 [00:00<?, ?it/s]"
      ]
     },
     "metadata": {},
     "output_type": "display_data"
    },
    {
     "name": "stdout",
     "output_type": "stream",
     "text": [
      "(409,) (102,)\n"
     ]
    },
    {
     "data": {
      "application/vnd.jupyter.widget-view+json": {
       "model_id": "b082fdf1557b4ea0b406dadadd5dd1f5",
       "version_major": 2,
       "version_minor": 0
      },
      "text/plain": [
       "  0%|          | 0/1000 [00:00<?, ?it/s]"
      ]
     },
     "metadata": {},
     "output_type": "display_data"
    },
    {
     "name": "stdout",
     "output_type": "stream",
     "text": [
      "Loading export1_7Jan08.mat\n",
      "Centering OnPaper events\n",
      "Not setting metadata\n",
      "Not setting metadata\n",
      "548 matching events found\n",
      "No baseline correction applied\n",
      "0 projection items activated\n",
      "Loading data for 548 events and 51 original time points ...\n",
      "0 bad epochs dropped\n",
      "(548, 3)\n",
      "Loading data for 548 events and 51 original time points ...\n",
      "(546, 4)\n",
      "(436,) (110,)\n"
     ]
    },
    {
     "data": {
      "application/vnd.jupyter.widget-view+json": {
       "model_id": "7ff9709ebbbf4b5c9fb3cd174947f40c",
       "version_major": 2,
       "version_minor": 0
      },
      "text/plain": [
       "  0%|          | 0/1000 [00:00<?, ?it/s]"
      ]
     },
     "metadata": {},
     "output_type": "display_data"
    },
    {
     "name": "stdout",
     "output_type": "stream",
     "text": [
      "(437,) (109,)\n"
     ]
    },
    {
     "data": {
      "application/vnd.jupyter.widget-view+json": {
       "model_id": "548101c5420b411687e8b0b4902d8da4",
       "version_major": 2,
       "version_minor": 0
      },
      "text/plain": [
       "  0%|          | 0/1000 [00:00<?, ?it/s]"
      ]
     },
     "metadata": {},
     "output_type": "display_data"
    },
    {
     "name": "stdout",
     "output_type": "stream",
     "text": [
      "(437,) (109,)\n"
     ]
    },
    {
     "data": {
      "application/vnd.jupyter.widget-view+json": {
       "model_id": "4b02cdaca2ac4cfd89305e648017bbf6",
       "version_major": 2,
       "version_minor": 0
      },
      "text/plain": [
       "  0%|          | 0/1000 [00:00<?, ?it/s]"
      ]
     },
     "metadata": {},
     "output_type": "display_data"
    },
    {
     "name": "stdout",
     "output_type": "stream",
     "text": [
      "(437,) (109,)\n"
     ]
    },
    {
     "data": {
      "application/vnd.jupyter.widget-view+json": {
       "model_id": "eaf31548b5dc4c8fb49977b7f91fdbc0",
       "version_major": 2,
       "version_minor": 0
      },
      "text/plain": [
       "  0%|          | 0/1000 [00:00<?, ?it/s]"
      ]
     },
     "metadata": {},
     "output_type": "display_data"
    },
    {
     "name": "stdout",
     "output_type": "stream",
     "text": [
      "(437,) (109,)\n"
     ]
    },
    {
     "data": {
      "application/vnd.jupyter.widget-view+json": {
       "model_id": "4bed471441a2468f8a8ab9de3af3fc7c",
       "version_major": 2,
       "version_minor": 0
      },
      "text/plain": [
       "  0%|          | 0/1000 [00:00<?, ?it/s]"
      ]
     },
     "metadata": {},
     "output_type": "display_data"
    }
   ],
   "source": [
    "from tqdm.autonotebook import tqdm\n",
    "from sklearn.model_selection import StratifiedKFold\n",
    "\n",
    "for idx_, row_ in tqdm(df_data.iterrows(), total=len(df_data)):\n",
    "    matfile = row_.mat\n",
    "    print('Loading', matfile)\n",
    "    mat = loadmat(matfile)\n",
    "    \n",
    "    raw = mat2raw(mat)\n",
    "    \n",
    "    on_paper_events = centerOnPaper(raw)\n",
    "    \n",
    "    from sklearn.model_selection import train_test_split\n",
    "\n",
    "    epochs = mne.Epochs(raw, events=on_paper_events, \n",
    "                        tmin=-1, tmax=4,\n",
    "                        preload=True, picks='all', baseline=None, verbose=0)\n",
    "\n",
    "    X = epochs.get_data(picks='emg')\n",
    "    y = epochs.events[:,-1].astype(int)-1\n",
    "\n",
    "    kf = StratifiedKFold(n_splits=5, shuffle=True)\n",
    "\n",
    "    metrics = {'acc_train': [], 'acc_val': [], 'loss_train': [], 'loss_val': []}\n",
    "\n",
    "    for train_index, test_index in kf.split(X, y):\n",
    "\n",
    "        X_train, y_train = X[train_index], y[train_index]\n",
    "        X_test, y_test = X[test_index], y[test_index]\n",
    "        print(train_index.shape, test_index.shape)\n",
    "\n",
    "        train_loader = DataLoader(GestureDataset(X_train, y_train, transform=torch.from_numpy),\n",
    "                                  batch_size = len(y_train), \n",
    "                                  shuffle = True)\n",
    "\n",
    "        test_loader = DataLoader(GestureDataset(X_test, y_test, transform=torch.from_numpy),\n",
    "                                  batch_size = len(y_test), \n",
    "                                  shuffle = True)\n",
    "\n",
    "        num_epochs = 1000\n",
    "\n",
    "        model = RNN(input_size, num_filters, hidden_size, num_layers, num_classes).to(device)\n",
    "        criterion = nn.CrossEntropyLoss()\n",
    "        softmax = nn.Softmax(1)\n",
    "        optimizer = torch.optim.Adam(model.parameters(), lr = 0.01)   \n",
    "\n",
    "        loss_train_ = []\n",
    "        loss_val_ = []\n",
    "        acc_train_ = []\n",
    "        acc_val_ = []\n",
    "\n",
    "        for epoch in tqdm(range(num_epochs)):\n",
    "            for i, (samples, labels) in enumerate(train_loader):\n",
    "                samples = samples.to(device).float()\n",
    "                labels = labels.to(device)\n",
    "\n",
    "                # Forward pass\n",
    "                outputs = model(samples)\n",
    "                acc = (outputs.argmax(-1) == labels).cpu().numpy().mean()\n",
    "                acc_train_.append(acc)\n",
    "\n",
    "                loss = criterion(outputs, labels)\n",
    "                loss_train_.append(loss.item())\n",
    "                # Backward and optimize\n",
    "                optimizer.zero_grad()\n",
    "                loss.backward()\n",
    "                optimizer.step()\n",
    "\n",
    "            if (epoch+1) % (num_epochs//100) == 0:\n",
    "                with torch.no_grad():\n",
    "                    for i, (samples, labels) in enumerate(test_loader):\n",
    "                        samples = samples.to(device).float()\n",
    "                        labels = labels.to(device)\n",
    "\n",
    "                        # Forward pass\n",
    "                        outputs = model(samples)\n",
    "                        acc_val = (outputs.argmax(-1) == labels).cpu().numpy().mean()\n",
    "                        acc_val_.append(acc_val)\n",
    "\n",
    "                        loss_val = criterion(outputs, labels)\n",
    "                        loss_val_.append(loss_val.item())\n",
    "                pass\n",
    "            pass\n",
    "\n",
    "        metrics['acc_train'].append(acc_train_)\n",
    "        metrics['acc_val'].append(acc_val_)\n",
    "        metrics['loss_train'].append(loss_train_)\n",
    "        metrics['loss_val'].append(loss_val_)\n",
    "        pass\n",
    "    \n",
    "    df_data.at[idx_, 'metrics'] = metrics   \n",
    "        \n",
    "#     break"
   ]
  },
  {
   "cell_type": "code",
   "execution_count": 114,
   "id": "c53d60a8-9165-48a7-b2e6-e4033c4d6e4f",
   "metadata": {},
   "outputs": [
    {
     "data": {
      "text/plain": [
       "array([0.95363636, 0.97798165, 0.9293578 , 0.96788991, 0.9559633 ])"
      ]
     },
     "execution_count": 114,
     "metadata": {},
     "output_type": "execute_result"
    }
   ],
   "source": [
    "np.array(metrics[\"acc_val\"])[:,-10:].mean(-1)"
   ]
  },
  {
   "cell_type": "code",
   "execution_count": null,
   "id": "dcb671c6-b9a3-449c-9bca-223b754a2ac7",
   "metadata": {},
   "outputs": [],
   "source": [
    "f'Accuracy {np.array(accs)[:, -10:].mean(-1).mean():.3f} ± {np.array(accs)[:, -10:].mean(-1).std():.3f}'"
   ]
  },
  {
   "cell_type": "code",
   "execution_count": 119,
   "id": "b6e0bf07-58b2-4902-bb27-b25b98b03938",
   "metadata": {},
   "outputs": [],
   "source": [
    "df_data.index.name='Index'"
   ]
  },
  {
   "cell_type": "code",
   "execution_count": 120,
   "id": "732c7169-9cf1-4892-83d1-aceb65a55d7b",
   "metadata": {},
   "outputs": [
    {
     "data": {
      "text/html": [
       "<div>\n",
       "<style scoped>\n",
       "    .dataframe tbody tr th:only-of-type {\n",
       "        vertical-align: middle;\n",
       "    }\n",
       "\n",
       "    .dataframe tbody tr th {\n",
       "        vertical-align: top;\n",
       "    }\n",
       "\n",
       "    .dataframe thead th {\n",
       "        text-align: right;\n",
       "    }\n",
       "</style>\n",
       "<table border=\"1\" class=\"dataframe\">\n",
       "  <thead>\n",
       "    <tr style=\"text-align: right;\">\n",
       "      <th></th>\n",
       "      <th>mat</th>\n",
       "      <th>Acc. Mean±Std</th>\n",
       "    </tr>\n",
       "    <tr>\n",
       "      <th>Index</th>\n",
       "      <th></th>\n",
       "      <th></th>\n",
       "    </tr>\n",
       "  </thead>\n",
       "  <tbody>\n",
       "    <tr>\n",
       "      <th>0</th>\n",
       "      <td>export1_13Nov07.mat</td>\n",
       "      <td>0.934±0.022</td>\n",
       "    </tr>\n",
       "    <tr>\n",
       "      <th>1</th>\n",
       "      <td>export1_15Jan08.mat</td>\n",
       "      <td>0.972±0.012</td>\n",
       "    </tr>\n",
       "    <tr>\n",
       "      <th>2</th>\n",
       "      <td>export1_15Nov07.mat</td>\n",
       "      <td>0.900±0.015</td>\n",
       "    </tr>\n",
       "    <tr>\n",
       "      <th>3</th>\n",
       "      <td>export1_19Dec07.mat</td>\n",
       "      <td>0.809±0.032</td>\n",
       "    </tr>\n",
       "    <tr>\n",
       "      <th>4</th>\n",
       "      <td>export1_20Dec07.mat</td>\n",
       "      <td>0.895±0.015</td>\n",
       "    </tr>\n",
       "    <tr>\n",
       "      <th>5</th>\n",
       "      <td>export1_21Dec07.mat</td>\n",
       "      <td>0.793±0.042</td>\n",
       "    </tr>\n",
       "    <tr>\n",
       "      <th>6</th>\n",
       "      <td>export1_24Jan08.mat</td>\n",
       "      <td>0.924±0.018</td>\n",
       "    </tr>\n",
       "    <tr>\n",
       "      <th>7</th>\n",
       "      <td>export1_2Jan08.mat</td>\n",
       "      <td>0.949±0.007</td>\n",
       "    </tr>\n",
       "    <tr>\n",
       "      <th>8</th>\n",
       "      <td>export1_30Nov07.mat</td>\n",
       "      <td>0.702±0.030</td>\n",
       "    </tr>\n",
       "    <tr>\n",
       "      <th>9</th>\n",
       "      <td>export1_3Jan08.mat</td>\n",
       "      <td>0.962±0.011</td>\n",
       "    </tr>\n",
       "    <tr>\n",
       "      <th>10</th>\n",
       "      <td>export1_7Jan08.mat</td>\n",
       "      <td>0.957±0.016</td>\n",
       "    </tr>\n",
       "  </tbody>\n",
       "</table>\n",
       "</div>"
      ],
      "text/plain": [
       "                       mat Acc. Mean±Std\n",
       "Index                                   \n",
       "0      export1_13Nov07.mat   0.934±0.022\n",
       "1      export1_15Jan08.mat   0.972±0.012\n",
       "2      export1_15Nov07.mat   0.900±0.015\n",
       "3      export1_19Dec07.mat   0.809±0.032\n",
       "4      export1_20Dec07.mat   0.895±0.015\n",
       "5      export1_21Dec07.mat   0.793±0.042\n",
       "6      export1_24Jan08.mat   0.924±0.018\n",
       "7       export1_2Jan08.mat   0.949±0.007\n",
       "8      export1_30Nov07.mat   0.702±0.030\n",
       "9       export1_3Jan08.mat   0.962±0.011\n",
       "10      export1_7Jan08.mat   0.957±0.016"
      ]
     },
     "execution_count": 120,
     "metadata": {},
     "output_type": "execute_result"
    }
   ],
   "source": [
    "s_accs = df_data.metrics.apply(lambda m: f'{np.array(m[\"acc_val\"])[:,-10:].mean(-1).mean():.3f}±{np.array(m[\"acc_val\"])[:,-10:].mean(-1).std():.3f}')\n",
    "s_accs.name = 'Acc. Mean±Std'\n",
    "pd.merge(df_data, s_accs, left_index=True, right_index=True)[['mat', 'Acc. Mean±Std']]\n",
    "\n",
    "\n"
   ]
  },
  {
   "cell_type": "code",
   "execution_count": 123,
   "id": "7c457cac-1ce0-4092-914b-cdd517e65c7b",
   "metadata": {},
   "outputs": [
    {
     "data": {
      "text/plain": [
       "count    11.000000\n",
       "mean      0.890751\n",
       "std       0.086287\n",
       "min       0.702054\n",
       "25%       0.852127\n",
       "50%       0.924413\n",
       "75%       0.953036\n",
       "max       0.972477\n",
       "Name: metrics, dtype: float64"
      ]
     },
     "execution_count": 123,
     "metadata": {},
     "output_type": "execute_result"
    }
   ],
   "source": [
    "df_data.metrics.apply(lambda m: np.array(m[\"acc_val\"])[:,-10:].mean(-1).mean()).describe()"
   ]
  },
  {
   "cell_type": "code",
   "execution_count": null,
   "id": "b5d504b5-06fd-47ee-9dcb-5c57a716f59c",
   "metadata": {},
   "outputs": [],
   "source": []
  }
 ],
 "metadata": {
  "kernelspec": {
   "display_name": "opto2",
   "language": "python",
   "name": "opto2"
  },
  "language_info": {
   "codemirror_mode": {
    "name": "ipython",
    "version": 3
   },
   "file_extension": ".py",
   "mimetype": "text/x-python",
   "name": "python",
   "nbconvert_exporter": "python",
   "pygments_lexer": "ipython3",
   "version": "3.8.10"
  }
 },
 "nbformat": 4,
 "nbformat_minor": 5
}
